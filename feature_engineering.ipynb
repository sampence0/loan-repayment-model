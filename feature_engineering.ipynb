{
 "cells": [
  {
   "cell_type": "markdown",
   "id": "d6a87359-75cb-42bc-a6f7-0f12e830010c",
   "metadata": {
    "tags": []
   },
   "source": [
    "# **FEATURE ENGINEERING**"
   ]
  },
  {
   "cell_type": "markdown",
   "id": "1f4ee52d-1df0-4879-b967-976302c6a1a9",
   "metadata": {
    "tags": []
   },
   "source": [
    "## **IMPORTS/TRAIN.CSV**"
   ]
  },
  {
   "cell_type": "code",
   "execution_count": null,
   "id": "e70f4b1a-b726-4b48-9a53-a08f6d304902",
   "metadata": {},
   "outputs": [],
   "source": [
    "# Import Required Packages\n",
    "import my_functions\n",
    "import matplotlib.pyplot as plt\n",
    "import numpy as np\n",
    "import pandas as pd\n",
    "import seaborn as sns\n",
    "import xgboost as xgb\n",
    "from imblearn.over_sampling import SMOTE\n",
    "from my_functions import parameters_and_importances\n",
    "from sklearn.decomposition import PCA\n",
    "from sklearn.ensemble import RandomForestClassifier\n",
    "from sklearn.impute import SimpleImputer\n",
    "from sklearn.preprocessing import StandardScaler\n",
    "from sklearn.preprocessing import LabelEncoder\n",
    "from sklearn.metrics import accuracy_score, precision_score, recall_score, f1_score\n",
    "from sklearn.metrics import confusion_matrix, classification_report, roc_curve, roc_auc_score\n",
    "from sklearn.model_selection import RandomizedSearchCV\n",
    "from sklearn.model_selection import train_test_split\n",
    "from xgboost import XGBClassifier"
   ]
  },
  {
   "cell_type": "code",
   "execution_count": null,
   "id": "2a5ed717-9f2c-4e88-9cbd-df82c65ab9f3",
   "metadata": {},
   "outputs": [],
   "source": [
    "train = pd.read_csv('application_train.csv')"
   ]
  },
  {
   "cell_type": "markdown",
   "id": "90bcd86e-bd31-4b30-8538-b33b25754ed1",
   "metadata": {
    "tags": []
   },
   "source": [
    "## **INITIAL EDA**"
   ]
  },
  {
   "cell_type": "code",
   "execution_count": null,
   "id": "5e1f82c6-645a-409b-90f4-2ce510add4d3",
   "metadata": {},
   "outputs": [],
   "source": [
    "\n",
    "counts = train['TARGET'].value_counts() # collect the counts of 0's and 1's\n",
    "fig, ax = plt.subplots(figsize=(3,5))\n",
    "ax.bar(counts.index, counts.values, color=['black', 'orange'])\n",
    "ax.set_xticks([0,1])\n",
    "ax.set_xlabel('Target')\n",
    "ax.set_ylabel('Frequency')\n",
    "ax.set_title('Distribution of Target Variable')\n",
    "plt.show()\n"
   ]
  },
  {
   "cell_type": "markdown",
   "id": "854613a8-eadf-4eb5-a885-b8293fbcced3",
   "metadata": {
    "tags": []
   },
   "source": [
    "## **TRAIN.CSV PREPROCESSING**"
   ]
  },
  {
   "cell_type": "code",
   "execution_count": null,
   "id": "dc49462d-56ff-4356-9c54-ee2e288ee1f8",
   "metadata": {},
   "outputs": [],
   "source": [
    "# Split the train data into manageable sets by dtype\n",
    "target = train['TARGET']\n",
    "id_curr = train['SK_ID_CURR']\n",
    "int_features = train.select_dtypes(include='int64')\n",
    "float_features = train.select_dtypes(include='float64')\n",
    "object_features = train.select_dtypes(include='object')"
   ]
  },
  {
   "cell_type": "markdown",
   "id": "e4341395-b86a-4889-821c-144cc6e7bca8",
   "metadata": {
    "tags": []
   },
   "source": [
    "### **OBJECT FEATURES**"
   ]
  },
  {
   "cell_type": "code",
   "execution_count": null,
   "id": "99332cc2-c572-4cca-872c-960bc1ed8abd",
   "metadata": {},
   "outputs": [],
   "source": [
    "# Remove Features with too many NA's\n",
    "drops = ['FONDKAPREMONT_MODE', 'HOUSETYPE_MODE', 'WALLSMATERIAL_MODE', 'EMERGENCYSTATE_MODE', 'WEEKDAY_APPR_PROCESS_START']\n",
    "object_features = object_features.drop(drops, axis=1)"
   ]
  },
  {
   "cell_type": "code",
   "execution_count": null,
   "id": "e319a5c8-101d-4eea-a0a2-d395381a429a",
   "metadata": {},
   "outputs": [],
   "source": [
    "# uses the 'count_na' function from my_functions.py\n",
    "from my_functions import count_na\n",
    "count_na(object_features)\n",
    "# we will return to this function after preprocessing viable object features"
   ]
  },
  {
   "cell_type": "markdown",
   "id": "4c8a48db-b20f-44f1-8a34-e0846ae4f296",
   "metadata": {},
   "source": [
    "**We will assume that an 'NaN' values for 'OCCUPATION_TYPE' and 'NAME_TYPE_SUITE' hold significance in relation to default. The next step is to determine which encoding method will be used on each feature. Some of the features, like 'CODE_GENDER', 'FLAG_OWN_CAR', etc. will simply require an applied map to change non-numeric binary labels to 1's and 0's.**"
   ]
  },
  {
   "cell_type": "code",
   "execution_count": null,
   "id": "633720ad-cca1-4385-b1d4-2485cdca39bf",
   "metadata": {},
   "outputs": [],
   "source": [
    "def weight_of_evidence_encode(df, column_name, label):\n",
    "    \"\"\"\n",
    "    Pass train df, name of column to be encoded, and target column.\n",
    "    \"\"\"\n",
    "    epsilon = 1e-6\n",
    "    pos = df.groupby(column_name)[label].mean() + epsilon\n",
    "    neg = 1 - pos + epsilon\n",
    "    weight_of_evidence = np.log(pos / neg)\n",
    "    \n",
    "    woe_dict = weight_of_evidence.to_dict()\n",
    "    woe_encoded = df[column_name].map(woe_dict)\n",
    "    \n",
    "    return woe_encoded\n"
   ]
  },
  {
   "cell_type": "code",
   "execution_count": null,
   "id": "981f2d7e-cd33-4a72-915e-72dc387e5356",
   "metadata": {},
   "outputs": [],
   "source": [
    "# One-Hot encoding was unsuccessful the first time around, however, this\n",
    "# function will remain in the notebok in case it is needed later\n",
    "def one_hot_encode(dataframe, column, drop_first=True):\n",
    "    \"\"\"\n",
    "    One hot encode specified column\n",
    "    \"\"\"\n",
    "    return pd.get_dummies(dataframe, columns=[column])\n"
   ]
  },
  {
   "cell_type": "markdown",
   "id": "f547c18a-3db1-420c-ae24-74282f897d3e",
   "metadata": {
    "tags": []
   },
   "source": [
    "#### Occupation Feature"
   ]
  },
  {
   "cell_type": "markdown",
   "id": "ae39b7d7-aba5-465d-9b39-fb99699be2bd",
   "metadata": {},
   "source": [
    "Weight of Evidence Encoding: \n",
    " - Natural log of the ratio of prob (default) : prob (pay back) for each unique value of the column"
   ]
  },
  {
   "cell_type": "code",
   "execution_count": null,
   "id": "eb93939d-e9bc-4e37-8089-f3732940b4b7",
   "metadata": {},
   "outputs": [],
   "source": [
    "\n",
    "object_features['TARGET'] = target\n",
    "object_features['OCCUPATION_TYPE'].fillna('not submitted', inplace=True)\n",
    "object_features['OCCUPATION_TYPE'] = weight_of_evidence_encode(\n",
    "    object_features, 'OCCUPATION_TYPE', 'TARGET'\n",
    ")\n"
   ]
  },
  {
   "cell_type": "markdown",
   "id": "f6d0e9f1-1da9-45da-92fe-7dab9a9c8ef0",
   "metadata": {
    "tags": []
   },
   "source": [
    "#### Binary String Features"
   ]
  },
  {
   "cell_type": "code",
   "execution_count": null,
   "id": "fc340836-5e39-44da-bc10-cddcdca94f80",
   "metadata": {},
   "outputs": [],
   "source": [
    "# fill missing in gender with M\n",
    "object_features['CODE_GENDER'] = object_features['CODE_GENDER'].fillna('M')\n",
    "\n",
    "# map ('M' and 'F') and ('Y' and 'N')to 1 and 0, respectively. \n",
    "mapping = {'Y': 1, 'N': 0, 'M': 1, 'F': 0, 'Cash loans': 0, 'Revolving loans': 1}\n",
    "string_cols = ['CODE_GENDER', 'FLAG_OWN_CAR', 'FLAG_OWN_REALTY', 'NAME_CONTRACT_TYPE']\n",
    "object_features[string_cols] = object_features[string_cols].applymap(mapping.get)"
   ]
  },
  {
   "cell_type": "code",
   "execution_count": null,
   "id": "768e375f-1c12-4d59-b2b8-67558672ac8e",
   "metadata": {},
   "outputs": [],
   "source": [
    "object_features['CODE_GENDER'] = object_features['CODE_GENDER'].fillna(object_features['CODE_GENDER'].mode().iloc[0])"
   ]
  },
  {
   "cell_type": "markdown",
   "id": "ff791b4e-3d05-43ae-a2b3-04039b57c0e3",
   "metadata": {
    "tags": []
   },
   "source": [
    "#### NAME_TYPE_SUITE"
   ]
  },
  {
   "cell_type": "code",
   "execution_count": null,
   "id": "82e6f81b-6e40-4cd8-a165-49143646652a",
   "metadata": {},
   "outputs": [],
   "source": [
    "\n",
    "# fill missing values in the NAME_TYPE_SUITE column with 'not submitted'\n",
    "object_features['NAME_TYPE_SUITE'] = object_features['NAME_TYPE_SUITE'].fillna('not submitted')\n",
    "\n",
    "# check the unique values in the NAME_TYPE_SUITE column\n",
    "print(object_features['NAME_TYPE_SUITE'].unique())\n"
   ]
  },
  {
   "cell_type": "code",
   "execution_count": null,
   "id": "2208bbea-928f-421d-bba4-d2515c331f34",
   "metadata": {},
   "outputs": [],
   "source": [
    "# group by 'NAME_TYPE_SUITE' and count the number of occurrences of 0's and 1's in the 'TARGET' column\n",
    "counts = object_features.groupby(['NAME_TYPE_SUITE', 'TARGET']).size().unstack(fill_value=0)\n",
    "counts['posneg_ratio'] = counts[1] / counts[0]\n",
    "counts"
   ]
  },
  {
   "cell_type": "markdown",
   "id": "d62b5fc3-e6a7-4c5b-b2cd-9e4bfc8cc0f1",
   "metadata": {},
   "source": [
    "Referring back to the EDA section, the total weight of positive cases in the dataset is 0.08782"
   ]
  },
  {
   "cell_type": "code",
   "execution_count": null,
   "id": "828bb843-b914-4ffd-bcd5-71b4fd35ed98",
   "metadata": {},
   "outputs": [],
   "source": [
    "# bin the 'NAME_TYPE_SUITE' values into three separate bins of nearest values\n",
    "\n",
    "suite_mapping = {\n",
    "    'Children': 0.079643,\n",
    "    'Family': 0.081018,\n",
    "    'Group of people': 0.092742,\n",
    "    'Other_A': 0.096203,\n",
    "    'Other_B': 0.109023,\n",
    "    'Spouse, partner': 0.085442,\n",
    "    'Unaccompanied': 0.089123,\n",
    "    'not submitted': 0.057283,\n",
    "}\n",
    "\n",
    "bins = [0, 0.082, 0.09, 0.11]\n",
    "labels = [0, 1, 2]\n",
    "object_features['NAME_TYPE_SUITE'] = object_features['NAME_TYPE_SUITE'].map(suite_mapping)\n",
    "object_features['NAME_TYPE_SUITE_BINNED'] = pd.cut(object_features['NAME_TYPE_SUITE'], bins=bins, labels=labels)\n",
    "object_features.drop('NAME_TYPE_SUITE', axis=1, inplace=True)"
   ]
  },
  {
   "cell_type": "markdown",
   "id": "f3e8143e-06bd-4cc1-ab9a-69457057a540",
   "metadata": {
    "tags": []
   },
   "source": [
    "#### Organization Type"
   ]
  },
  {
   "cell_type": "markdown",
   "id": "7f8b16ca-7790-477d-9f3e-b0d65059267a",
   "metadata": {},
   "source": [
    "Once again, given the large amount of unique values in this column, it will be Weight of Evidence encoded, just like occupation type. "
   ]
  },
  {
   "cell_type": "code",
   "execution_count": null,
   "id": "85b89f53-9f12-4c03-a7c0-f009e3b9b653",
   "metadata": {},
   "outputs": [],
   "source": [
    "object_features['ORGANIZATION_TYPE'].unique()"
   ]
  },
  {
   "cell_type": "code",
   "execution_count": null,
   "id": "bdb551c3-65c9-493c-8970-19fd1dd00ae4",
   "metadata": {},
   "outputs": [],
   "source": [
    "object_features['ORGANIZATION_TYPE'] = weight_of_evidence_encode(\n",
    "    object_features, 'ORGANIZATION_TYPE', 'TARGET'\n",
    ")"
   ]
  },
  {
   "cell_type": "markdown",
   "id": "b20f7071-9bdc-470d-9284-6af5e5c635a7",
   "metadata": {
    "tags": []
   },
   "source": [
    "#### Housing Type"
   ]
  },
  {
   "cell_type": "code",
   "execution_count": null,
   "id": "d66b098d-7ba2-4708-a7ce-cac871cc0903",
   "metadata": {},
   "outputs": [],
   "source": [
    "object_features['NAME_HOUSING_TYPE'].unique()"
   ]
  },
  {
   "cell_type": "code",
   "execution_count": null,
   "id": "88ba3384-2312-4ae0-81fb-5b9796a14722",
   "metadata": {
    "tags": []
   },
   "outputs": [],
   "source": [
    "object_features['NAME_HOUSING_TYPE'] =  weight_of_evidence_encode(\n",
    "    object_features, 'NAME_HOUSING_TYPE', 'TARGET'\n",
    ")"
   ]
  },
  {
   "cell_type": "markdown",
   "id": "33dfde79-8644-4a1a-8d34-9ee3a14a8abf",
   "metadata": {
    "tags": []
   },
   "source": [
    "#### Income Type"
   ]
  },
  {
   "cell_type": "code",
   "execution_count": null,
   "id": "d5f32f95-1b19-4e31-aa9a-31a07eb981b4",
   "metadata": {
    "tags": []
   },
   "outputs": [],
   "source": [
    "object_features['NAME_INCOME_TYPE'].unique()"
   ]
  },
  {
   "cell_type": "code",
   "execution_count": null,
   "id": "ca8b0269-3208-436b-8832-581ff9149481",
   "metadata": {},
   "outputs": [],
   "source": [
    "counts = object_features['NAME_INCOME_TYPE'].value_counts()\n",
    "counts"
   ]
  },
  {
   "cell_type": "code",
   "execution_count": null,
   "id": "57cfa9d8-a9a1-483c-8ff2-6184098ebafd",
   "metadata": {},
   "outputs": [],
   "source": [
    "object_features['NAME_INCOME_TYPE'] = weight_of_evidence_encode(\n",
    "    object_features, 'NAME_INCOME_TYPE', 'TARGET'\n",
    ")"
   ]
  },
  {
   "cell_type": "markdown",
   "id": "9a56cd5a-f880-4d26-8a67-04bcab85f356",
   "metadata": {
    "tags": []
   },
   "source": [
    "#### Education"
   ]
  },
  {
   "cell_type": "code",
   "execution_count": null,
   "id": "c16e5748-1ac8-4760-b66d-f3e4bdf8c6ba",
   "metadata": {},
   "outputs": [],
   "source": [
    "object_features['NAME_EDUCATION_TYPE'].unique()"
   ]
  },
  {
   "cell_type": "code",
   "execution_count": null,
   "id": "5d509b1c-4785-4d10-b065-46a2631925fc",
   "metadata": {},
   "outputs": [],
   "source": [
    "# Encode the education type feature by frequency. \n",
    "# Thesis is that model will pick up on infrequent education levels\n",
    "# in combination with values of the other features to determine target. \n",
    "encoder = LabelEncoder()\n",
    "encoder.fit(object_features['NAME_EDUCATION_TYPE'])\n",
    "object_features['NAME_EDUCATION_TYPE'] = encoder.transform(\n",
    "    object_features['NAME_EDUCATION_TYPE'])  \n"
   ]
  },
  {
   "cell_type": "markdown",
   "id": "f5f7d4c0-2106-4a59-aefb-b07c4efa3cbb",
   "metadata": {
    "tags": []
   },
   "source": [
    "#### Fam Status"
   ]
  },
  {
   "cell_type": "code",
   "execution_count": null,
   "id": "478f9f45-9fee-497a-b57b-992c79d0c732",
   "metadata": {},
   "outputs": [],
   "source": [
    "object_features['NAME_FAMILY_STATUS'].unique()"
   ]
  },
  {
   "cell_type": "code",
   "execution_count": null,
   "id": "34ee0d4b-f5c7-4760-85c9-292e3b0284cf",
   "metadata": {},
   "outputs": [],
   "source": [
    "sns.barplot(x='NAME_FAMILY_STATUS', y='TARGET', data=train)\n"
   ]
  },
  {
   "cell_type": "code",
   "execution_count": null,
   "id": "e3d8f21f-99aa-43fb-9a21-badd4e3af028",
   "metadata": {},
   "outputs": [],
   "source": [
    "object_features['NAME_FAMILY_STATUS'] = weight_of_evidence_encode(\n",
    "    object_features, 'NAME_FAMILY_STATUS', 'TARGET'\n",
    ")\n",
    "\n"
   ]
  },
  {
   "cell_type": "markdown",
   "id": "a7af2e28-653d-43a4-a6e4-55292ad604f0",
   "metadata": {
    "tags": []
   },
   "source": [
    "#### review/scaling"
   ]
  },
  {
   "cell_type": "code",
   "execution_count": null,
   "id": "11b8be3b-3d0d-46ca-864f-4e5737d70e7c",
   "metadata": {},
   "outputs": [],
   "source": [
    "# change 'NAME_TYPE_SUITE_BINNED' from dtype category to int\n",
    "object_features['NAME_TYPE_SUITE_BINNED'] = object_features['NAME_TYPE_SUITE_BINNED'].astype('int64')\n",
    "\n"
   ]
  },
  {
   "cell_type": "code",
   "execution_count": null,
   "id": "a31cfe59-ac50-45ba-80f9-3482900b25c7",
   "metadata": {},
   "outputs": [],
   "source": [
    "# Scale values that are not ordinal, binary, or integer\n",
    "scaler = StandardScaler()\n",
    "columns_to_scale = ['NAME_INCOME_TYPE', 'NAME_FAMILY_STATUS',\n",
    "                    'NAME_HOUSING_TYPE', 'OCCUPATION_TYPE', \n",
    "                    'ORGANIZATION_TYPE']\n",
    "object_features[columns_to_scale] = scaler.fit_transform(object_features[columns_to_scale])\n"
   ]
  },
  {
   "cell_type": "markdown",
   "id": "05e19974-ddbe-4852-bb1a-884668ff016a",
   "metadata": {
    "tags": []
   },
   "source": [
    "### **INT FEATURES**"
   ]
  },
  {
   "cell_type": "code",
   "execution_count": null,
   "id": "8f4e3713-211f-401d-bd1f-b9431abbf3af",
   "metadata": {
    "tags": []
   },
   "outputs": [],
   "source": [
    "drops = ['SK_ID_CURR']\n",
    "int_features = int_features.drop(columns=drops)"
   ]
  },
  {
   "cell_type": "markdown",
   "id": "920d3df8-e7ba-41f9-b165-42260ec90322",
   "metadata": {
    "tags": []
   },
   "source": [
    "#### General Approach"
   ]
  },
  {
   "cell_type": "markdown",
   "id": "87e6164a-536b-4316-8eea-b9f2c04ea1c4",
   "metadata": {},
   "source": [
    "This data will be used for much more than selection, removal, or encoding. Numerical features can be transformed and operated on to create more intuitive features for the question we are trying to answer. For example, we will most likely place the sum of all 'FLAG_DOCUMENT' columns into its own column 'MISSING_DOCS' for feature reduction."
   ]
  },
  {
   "cell_type": "markdown",
   "id": "df6b4f6d-69d1-4f98-bdf1-7d7e6576e159",
   "metadata": {
    "tags": []
   },
   "source": [
    "#### **Document Columns**\n",
    "This section will take all 'FLAG_DOCUMENT' columns, sum their total value to create a column of total missing documents in each loan application, and then drop all individual document columns. This is an effort to prevent the classifier from overfitting to the training data - most of these documents are turned in by most people, making the use of each column individually seem redundant."
   ]
  },
  {
   "cell_type": "markdown",
   "id": "d0557349-7e62-43be-b07a-76398983a7c7",
   "metadata": {},
   "source": [
    "A simple yet logical implementation of..."
   ]
  },
  {
   "cell_type": "code",
   "execution_count": null,
   "id": "51706e20-95cd-43b3-80fd-69dab69cf421",
   "metadata": {},
   "outputs": [],
   "source": [
    "doc_columns = [\n",
    "    \"FLAG_DOCUMENT_2\",\n",
    "    \"FLAG_DOCUMENT_3\",\n",
    "    \"FLAG_DOCUMENT_4\",\n",
    "    \"FLAG_DOCUMENT_5\",\n",
    "    \"FLAG_DOCUMENT_6\",\n",
    "    \"FLAG_DOCUMENT_7\",\n",
    "    \"FLAG_DOCUMENT_8\",\n",
    "    \"FLAG_DOCUMENT_9\",\n",
    "    \"FLAG_DOCUMENT_10\",\n",
    "    \"FLAG_DOCUMENT_11\",\n",
    "    \"FLAG_DOCUMENT_12\",\n",
    "    \"FLAG_DOCUMENT_13\",\n",
    "    \"FLAG_DOCUMENT_14\",\n",
    "    \"FLAG_DOCUMENT_15\",\n",
    "    \"FLAG_DOCUMENT_16\",\n",
    "    \"FLAG_DOCUMENT_17\",\n",
    "    \"FLAG_DOCUMENT_18\",\n",
    "    \"FLAG_DOCUMENT_19\",\n",
    "    \"FLAG_DOCUMENT_20\",\n",
    "    \"FLAG_DOCUMENT_21\",\n",
    "]"
   ]
  },
  {
   "cell_type": "code",
   "execution_count": null,
   "id": "ca6d831b-ea08-4915-9cf6-e7f0620c890f",
   "metadata": {},
   "outputs": [],
   "source": [
    "\n",
    "doc_defaults = []\n",
    "for col in doc_columns:\n",
    "    doc_defaults.append(int_features.groupby(col)['TARGET'].mean()[1])\n",
    "\n",
    "fig, ax = plt.subplots(figsize=(10,8))\n",
    "y_pos = range(len(doc_columns))\n",
    "ax.barh(y_pos, doc_defaults, align='center')\n",
    "ax.set_yticks(y_pos)\n",
    "ax.set_yticklabels(doc_columns)\n",
    "ax.invert_yaxis()\n",
    "ax.set_xlabel('Default Rate')\n",
    "ax.set_title('Default Rate by Flag Document Column')\n",
    "plt.show()\n"
   ]
  },
  {
   "cell_type": "code",
   "execution_count": null,
   "id": "87da4d2f-2f5c-4d3f-9584-3190c5db886d",
   "metadata": {},
   "outputs": [],
   "source": [
    "important_doc_cols = ['FLAG_DOCUMENT_2', 'FLAG_DOCUMENT_3'\n",
    "                      'FLAG_DOCUMENT_21']"
   ]
  },
  {
   "cell_type": "code",
   "execution_count": null,
   "id": "1eb39349-81b6-4c30-96c9-a0d459fd35b9",
   "metadata": {},
   "outputs": [],
   "source": [
    "# Drop all document columns that are unimportant\n",
    "doc_columns = [\n",
    "    \"FLAG_DOCUMENT_4\",\n",
    "    \"FLAG_DOCUMENT_5\",\n",
    "    \"FLAG_DOCUMENT_6\",\n",
    "    \"FLAG_DOCUMENT_7\",\n",
    "    \"FLAG_DOCUMENT_8\",\n",
    "    \"FLAG_DOCUMENT_9\",\n",
    "    \"FLAG_DOCUMENT_10\",\n",
    "    \"FLAG_DOCUMENT_11\",\n",
    "    \"FLAG_DOCUMENT_12\",\n",
    "    \"FLAG_DOCUMENT_13\",\n",
    "    \"FLAG_DOCUMENT_14\",\n",
    "    \"FLAG_DOCUMENT_15\",\n",
    "    \"FLAG_DOCUMENT_16\",\n",
    "    \"FLAG_DOCUMENT_17\",\n",
    "    \"FLAG_DOCUMENT_18\",\n",
    "    \"FLAG_DOCUMENT_19\",\n",
    "    \"FLAG_DOCUMENT_20\",\n",
    "]\n",
    "\n",
    "int_features = int_features.drop(doc_columns, axis=1)"
   ]
  },
  {
   "cell_type": "markdown",
   "id": "0529bc9f-06e9-4c64-bf3e-7eb3937268a7",
   "metadata": {
    "tags": []
   },
   "source": [
    "#### Children"
   ]
  },
  {
   "cell_type": "code",
   "execution_count": null,
   "id": "0b3be073-4b71-4d02-80c2-2663a499e37d",
   "metadata": {},
   "outputs": [],
   "source": [
    "import matplotlib.pyplot as plt\n",
    "\n",
    "# Calculate default rate for each CNT_CHILDREN value\n",
    "default_rates = []\n",
    "for i in range(int_features['CNT_CHILDREN'].max() + 1):\n",
    "    rate = int_features[int_features['CNT_CHILDREN'] == i]['TARGET'].mean()\n",
    "    default_rates.append(rate)\n",
    "\n",
    "# Create horizontal bar chart\n",
    "fig, ax = plt.subplots(figsize=(8, 6))\n",
    "ax.barh(range(len(default_rates)), default_rates, color='blue')\n",
    "ax.set_yticks(range(len(default_rates)))\n",
    "ax.set_yticklabels(range(int_features['CNT_CHILDREN'].max() + 1))\n",
    "ax.invert_yaxis()\n",
    "ax.set_xlabel('Default Rate')\n",
    "ax.set_ylabel('Number of Children')\n",
    "ax.set_title('Default Rate by Number of Children')\n",
    "plt.show()\n"
   ]
  },
  {
   "cell_type": "markdown",
   "id": "671fa745-253e-4d62-b191-7c68f3552a7b",
   "metadata": {
    "tags": []
   },
   "source": [
    "#### Time of day"
   ]
  },
  {
   "cell_type": "code",
   "execution_count": null,
   "id": "d38f0945-d0c3-4bbf-b3a5-aa654dc9b44c",
   "metadata": {},
   "outputs": [],
   "source": [
    "int_features['HOUR_APPR_PROCESS_START'] = pd.cut(\n",
    "    int_features['HOUR_APPR_PROCESS_START'], \n",
    "    bins=[0, 8, 16, 24],\n",
    "    labels=['morning', 'day', 'night']\n",
    ").astype(str)"
   ]
  },
  {
   "cell_type": "code",
   "execution_count": null,
   "id": "1368c316-f353-45f5-a780-a7d40d2d456a",
   "metadata": {},
   "outputs": [],
   "source": [
    "int_features = one_hot_encode(int_features, 'HOUR_APPR_PROCESS_START')"
   ]
  },
  {
   "cell_type": "code",
   "execution_count": null,
   "id": "cfdd25b2-143b-4cf3-9c4b-a1796782d527",
   "metadata": {},
   "outputs": [],
   "source": [
    "# drop everything except for morning\n",
    "drops = [\n",
    "    'HOUR_APPR_PROCESS_START_nan',\n",
    "    'HOUR_APPR_PROCESS_START_night',\n",
    "    'HOUR_APPR_PROCESS_START_day',\n",
    "]\n",
    "\n",
    "int_features = int_features.drop(drops, axis=1)"
   ]
  },
  {
   "cell_type": "markdown",
   "id": "0809013e-4e71-4149-8876-cb456b272762",
   "metadata": {
    "tags": []
   },
   "source": [
    "#### Living/Working Region"
   ]
  },
  {
   "cell_type": "code",
   "execution_count": null,
   "id": "18ae8e74-ead6-4f01-bb49-a6d7fd00ee35",
   "metadata": {},
   "outputs": [],
   "source": [
    "int_features['REGIONS_NOT_MATCHED'] = (int_features['REG_REGION_NOT_LIVE_REGION'] + \n",
    "                                       int_features['REG_REGION_NOT_WORK_REGION'] + \n",
    "                                       int_features['LIVE_REGION_NOT_WORK_REGION'])\n",
    "int_features = int_features.drop(columns=['REG_REGION_NOT_LIVE_REGION', \n",
    "                                           'REG_REGION_NOT_WORK_REGION', \n",
    "                                           'LIVE_REGION_NOT_WORK_REGION'])\n"
   ]
  },
  {
   "cell_type": "code",
   "execution_count": null,
   "id": "128cde78-0271-4f8a-b823-3112c1a207c0",
   "metadata": {},
   "outputs": [],
   "source": [
    "int_features['CITIES_NOT_MATCHED'] = int_features['REG_CITY_NOT_LIVE_CITY'] + int_features['REG_CITY_NOT_WORK_CITY']\n",
    "int_features = int_features.drop(columns=['REG_CITY_NOT_LIVE_CITY', 'REG_CITY_NOT_WORK_CITY'])\n"
   ]
  },
  {
   "cell_type": "code",
   "execution_count": null,
   "id": "e2e79782-ed4b-466d-b238-a2cc6ba3504c",
   "metadata": {},
   "outputs": [],
   "source": [
    "int_features['REGION_RATING_CLIENT'].unique()"
   ]
  },
  {
   "cell_type": "code",
   "execution_count": null,
   "id": "9f547b75-d6c5-4508-a90e-a12bda3d7991",
   "metadata": {},
   "outputs": [],
   "source": [
    "\n",
    "int_features = one_hot_encode(int_features, 'REGION_RATING_CLIENT')\n"
   ]
  },
  {
   "cell_type": "code",
   "execution_count": null,
   "id": "e92e35e9-35d6-4f41-b2ee-185ff31389fb",
   "metadata": {},
   "outputs": [],
   "source": [
    "int_features = one_hot_encode(int_features, 'REGION_RATING_CLIENT_W_CITY')"
   ]
  },
  {
   "cell_type": "code",
   "execution_count": null,
   "id": "3adcdc15-9b13-44f3-bd1d-6f37de4c3842",
   "metadata": {},
   "outputs": [],
   "source": [
    "# drop ones and twos from ratings \n",
    "drops = [\n",
    "    'REGION_RATING_CLIENT_1',\n",
    "    'REGION_RATING_CLIENT_W_CITY_1',\n",
    "    'REGION_RATING_CLIENT_2',\n",
    "    'REGION_RATING_CLIENT_W_CITY_2'\n",
    "\n",
    "]\n",
    "\n",
    "int_features = int_features.drop(drops, axis=1)"
   ]
  },
  {
   "cell_type": "code",
   "execution_count": null,
   "id": "520ed9c2-44b6-4650-9618-b1758003b975",
   "metadata": {},
   "outputs": [],
   "source": [
    "int_features.columns"
   ]
  },
  {
   "cell_type": "markdown",
   "id": "fd5d8d20-052f-48f3-b9ab-7f2c249b9aa7",
   "metadata": {
    "tags": []
   },
   "source": [
    "#### Birthday"
   ]
  },
  {
   "cell_type": "code",
   "execution_count": null,
   "id": "2918fcb9-807e-4aed-a5fd-ca8d08591b04",
   "metadata": {},
   "outputs": [],
   "source": [
    "# Convert 'DAYS_BIRTH' to years\n",
    "int_features['AGE'] = round(-int_features['DAYS_BIRTH'] / 365)\n",
    "\n",
    "# Plot histogram\n",
    "fig, ax = plt.subplots(figsize=(10, 8))\n",
    "sns.histplot(\n",
    "    data=int_features[int_features['TARGET'] == 1], x='AGE', color='red', ax=ax,\n",
    "    binwidth=2, stat='count', edgecolor='black', linewidth=1.0\n",
    ")\n",
    "sns.histplot(\n",
    "    data=int_features[int_features['TARGET'] == 0], x='AGE', color='blue', ax=ax,\n",
    "    binwidth=2, stat='count', edgecolor='black', linewidth=1.0\n",
    ")\n",
    "ax.set_xlabel('Age')\n",
    "ax.set_ylabel('Count')\n",
    "ax.legend(['Default', 'Non-Default'])\n",
    "plt.title('Default Counts by Age')\n",
    "plt.show()\n"
   ]
  },
  {
   "cell_type": "code",
   "execution_count": null,
   "id": "2f476d20-053d-4cb9-8994-cefc1dc2eca2",
   "metadata": {},
   "outputs": [],
   "source": [
    "int_features['AGE_UNDER_40'] = int_features['DAYS_BIRTH'].apply(lambda x: 1 if x < -40*365 else 0)"
   ]
  },
  {
   "cell_type": "code",
   "execution_count": null,
   "id": "f535c67f-cb4d-41fc-9364-bd369d4ba5db",
   "metadata": {},
   "outputs": [],
   "source": [
    "int_features.columns"
   ]
  },
  {
   "cell_type": "code",
   "execution_count": null,
   "id": "313f8b7e-8a6f-4300-b46a-d5d6617fae95",
   "metadata": {},
   "outputs": [],
   "source": [
    "# drop flag columns from obj features and add it to int features\n",
    "int_features['FLAG_OWN_CAR'] = object_features['FLAG_OWN_CAR']\n",
    "int_features['FLAG_OWN_REALTY'] = object_features['FLAG_OWN_REALTY']\n",
    "\n",
    "drops = ['FLAG_OWN_CAR', 'FLAG_OWN_REALTY']\n",
    "object_features = object_features.drop(drops, axis=1)\n",
    "\n",
    "\n",
    "\n",
    "flag_cols = int_features.columns[int_features.columns.str.startswith('FLAG_')]\n",
    "\n",
    "flag_defaults = []\n",
    "for col in flag_cols:\n",
    "    flag_defaults.append(int_features.groupby(col)['TARGET'].mean()[1])\n",
    "\n",
    "fig, ax = plt.subplots(figsize=(10,8))\n",
    "y_pos = range(len(flag_cols))\n",
    "ax.barh(y_pos, flag_defaults, align='center')\n",
    "ax.set_yticks(y_pos)\n",
    "ax.set_yticklabels(flag_cols)\n",
    "ax.invert_yaxis()\n",
    "ax.set_xlabel('Default Rate')\n",
    "ax.set_title('Default Rate by Flag Document Column')\n",
    "plt.show()\n"
   ]
  },
  {
   "cell_type": "code",
   "execution_count": null,
   "id": "8ff90976-93bc-4297-b384-8b2baf538878",
   "metadata": {},
   "outputs": [],
   "source": [
    "# Create communications flag column\n",
    "int_features['COMMUNICATIONS_FLAGS'] = int_features[\n",
    "    ['FLAG_MOBIL', 'FLAG_EMP_PHONE', 'FLAG_WORK_PHONE',\n",
    "     'FLAG_CONT_MOBILE', 'FLAG_PHONE', 'FLAG_EMAIL']\n",
    "].sum(axis=1)\n",
    "\n",
    "# Create flag assets column\n",
    "int_features['FLAG_ASSETS'] = int_features[['FLAG_OWN_CAR', 'FLAG_OWN_REALTY']].sum(axis=1)\n",
    "\n",
    "int_features = int_features.drop(['FLAG_MOBIL', 'FLAG_EMP_PHONE', \n",
    "                                  'FLAG_WORK_PHONE', 'FLAG_CONT_MOBILE',\n",
    "                                  'FLAG_PHONE', 'FLAG_EMAIL', \n",
    "                                  'FLAG_OWN_CAR', 'FLAG_OWN_REALTY'], axis=1)\n",
    "\n"
   ]
  },
  {
   "cell_type": "markdown",
   "id": "8aa072fe-12eb-4125-bd58-dac9fc306cbd",
   "metadata": {
    "tags": []
   },
   "source": [
    "### **FLOAT FEATURES**"
   ]
  },
  {
   "cell_type": "markdown",
   "id": "7243ba5d-8117-4731-95ab-8c760ef1cb51",
   "metadata": {},
   "source": [
    "We will begin by identifying possible imputation strategies for columns with a large number of missing values, or just drop them in general. This is an important first step because the model's predictive power can be disrupted by columns that are not filled with accurate measures of central tendency. "
   ]
  },
  {
   "cell_type": "markdown",
   "id": "81dce02b-2ead-42f0-bd91-c05e9226b251",
   "metadata": {
    "tags": []
   },
   "source": [
    "#### Fill missing values"
   ]
  },
  {
   "cell_type": "markdown",
   "id": "1d590a6f-2245-4a57-b2b6-eb2b1ad31291",
   "metadata": {
    "tags": []
   },
   "source": [
    "##### **'AMT_ANNUITY'**"
   ]
  },
  {
   "cell_type": "code",
   "execution_count": null,
   "id": "2dc2ea0e-92c4-468a-b8ea-408d4bddcbc3",
   "metadata": {},
   "outputs": [],
   "source": [
    "\n",
    "# drop rows with empty annuity value\n",
    "# very few and misleading data\n",
    "\n",
    "float_features.dropna(subset=['AMT_ANNUITY'], inplace=True)"
   ]
  },
  {
   "cell_type": "markdown",
   "id": "540c9af4-1698-4697-9bad-bde7b22d01ed",
   "metadata": {
    "tags": []
   },
   "source": [
    "##### **'AMT_GOODS_PRICE'**"
   ]
  },
  {
   "cell_type": "code",
   "execution_count": null,
   "id": "f153ddf0-228d-40c6-8267-8aef453370ec",
   "metadata": {},
   "outputs": [],
   "source": [
    "# same with goods price\n",
    "# we assume that in a loan application, $ amt for annuity and goods\n",
    "# will be required\n",
    "\n",
    "float_features.dropna(subset=['AMT_GOODS_PRICE'], inplace=True)\n"
   ]
  },
  {
   "cell_type": "markdown",
   "id": "df5fe492-0503-4028-966e-72b13e86380b",
   "metadata": {
    "tags": []
   },
   "source": [
    "##### **Columns to fill w/ measures of central tendency**"
   ]
  },
  {
   "cell_type": "code",
   "execution_count": null,
   "id": "d8b226dd-1a65-479c-a717-776063d1de5b",
   "metadata": {},
   "outputs": [],
   "source": [
    "\n",
    "# define float columns to be imputed\n",
    "fill_with_mean = ['OBS_30_CNT_SOCIAL_CIRCLE', 'DEF_30_CNT_SOCIAL_CIRCLE',\n",
    "                  'OBS_60_CNT_SOCIAL_CIRCLE', 'DEF_60_CNT_SOCIAL_CIRCLE']\n",
    "fill_with_median = ['CNT_FAM_MEMBERS', \n",
    "                    'DAYS_LAST_PHONE_CHANGE']\n",
    "fill_with_mode = ['AMT_REQ_CREDIT_BUREAU_HOUR', 'AMT_REQ_CREDIT_BUREAU_DAY', \n",
    "                  'AMT_REQ_CREDIT_BUREAU_WEEK', 'AMT_REQ_CREDIT_BUREAU_MON', \n",
    "                  'AMT_REQ_CREDIT_BUREAU_QRT', 'AMT_REQ_CREDIT_BUREAU_YEAR']\n",
    "# instantiate imputers\n",
    "mean_imputer = SimpleImputer(strategy='mean')\n",
    "median_imputer = SimpleImputer(strategy='median')\n",
    "mode_imputer = SimpleImputer(strategy='most_frequent')\n",
    "\n",
    "# impute columns with missing values \n",
    "float_features[fill_with_mean] = mean_imputer.fit_transform(float_features[fill_with_mean])\n",
    "float_features[fill_with_median] = median_imputer.fit_transform(float_features[fill_with_median])\n",
    "float_features[fill_with_mode] = mode_imputer.fit_transform(float_features[fill_with_mode])\n",
    "\n"
   ]
  },
  {
   "cell_type": "markdown",
   "id": "d3740ebf-740b-4f28-9822-3d1161d37a9b",
   "metadata": {
    "tags": []
   },
   "source": [
    "##### **EXT_SOURCE Columns**"
   ]
  },
  {
   "cell_type": "code",
   "execution_count": null,
   "id": "1ee8a2aa-1a5e-4423-9e0f-50192b6e11d6",
   "metadata": {},
   "outputs": [],
   "source": [
    "# loop over the source columns and impute missing values with the mean of the other\n",
    "# two source columns in the same application\n",
    "\n",
    "ext_source_cols = ['EXT_SOURCE_1', 'EXT_SOURCE_2', 'EXT_SOURCE_3']\n",
    "\n",
    "for col in ext_source_cols:\n",
    "    missing_mask = float_features[col].isnull()\n",
    "    temp_df = float_features.loc[missing_mask, ['EXT_SOURCE_1', 'EXT_SOURCE_2', 'EXT_SOURCE_3']]\n",
    "    mean_values = temp_df.mean(axis=1)\n",
    "    float_features.loc[missing_mask, col] = mean_values\n",
    "\n",
    "# for columns that have zero external source scores, we will fill them with the mean of the column\n",
    "float_features[ext_source_cols] = mean_imputer.fit_transform(float_features[ext_source_cols])\n",
    "\n",
    "\n",
    "\n"
   ]
  },
  {
   "cell_type": "markdown",
   "id": "c303ddf5-df04-41fe-9f7f-ad0a50c60da6",
   "metadata": {
    "tags": []
   },
   "source": [
    "##### **Drop columns with too many missing vals**"
   ]
  },
  {
   "cell_type": "code",
   "execution_count": null,
   "id": "7c57dc9f-9c44-4384-9cd4-84210431bb7e",
   "metadata": {},
   "outputs": [],
   "source": [
    "\n",
    "# define columns to drop\n",
    "drop = ['OWN_CAR_AGE', 'APARTMENTS_AVG', 'BASEMENTAREA_AVG', \n",
    "        'YEARS_BEGINEXPLUATATION_AVG', 'YEARS_BUILD_AVG', \n",
    "        'COMMONAREA_AVG', 'ELEVATORS_AVG', 'ENTRANCES_AVG', \n",
    "        'FLOORSMAX_AVG', 'FLOORSMIN_AVG', 'LANDAREA_AVG', \n",
    "        'LIVINGAPARTMENTS_AVG', 'LIVINGAREA_AVG', \n",
    "        'NONLIVINGAPARTMENTS_AVG', 'NONLIVINGAREA_AVG', \n",
    "        'APARTMENTS_MODE', 'BASEMENTAREA_MODE', \n",
    "        'YEARS_BEGINEXPLUATATION_MODE', 'YEARS_BUILD_MODE', \n",
    "        'COMMONAREA_MODE', 'ELEVATORS_MODE', 'ENTRANCES_MODE', \n",
    "        'FLOORSMAX_MODE', 'FLOORSMIN_MODE', 'LANDAREA_MODE', \n",
    "        'LIVINGAPARTMENTS_MODE', 'LIVINGAREA_MODE', \n",
    "        'NONLIVINGAPARTMENTS_MODE', 'NONLIVINGAREA_MODE', \n",
    "        'APARTMENTS_MEDI', 'BASEMENTAREA_MEDI', \n",
    "        'YEARS_BEGINEXPLUATATION_MEDI', 'YEARS_BUILD_MEDI', \n",
    "        'COMMONAREA_MEDI', 'ELEVATORS_MEDI', 'ENTRANCES_MEDI', \n",
    "        'FLOORSMAX_MEDI', 'FLOORSMIN_MEDI', 'LANDAREA_MEDI', \n",
    "        'LIVINGAPARTMENTS_MEDI', 'LIVINGAREA_MEDI', \n",
    "        'NONLIVINGAPARTMENTS_MEDI', 'NONLIVINGAREA_MEDI', \n",
    "        'TOTALAREA_MODE']\n",
    "\n",
    "# drop unimportant columns\n",
    "float_features = float_features.drop(drop, axis=1)\n"
   ]
  },
  {
   "cell_type": "code",
   "execution_count": null,
   "id": "2335d84a-4150-475e-9a3d-14d6ab1b6b95",
   "metadata": {},
   "outputs": [],
   "source": [
    "train = pd.concat([float_features, int_features, object_features], axis=1)"
   ]
  },
  {
   "cell_type": "code",
   "execution_count": null,
   "id": "11766efd-c594-4c7e-b648-3db42efa792e",
   "metadata": {
    "tags": []
   },
   "outputs": [],
   "source": [
    "# create new aggregated features out of SOCIAL_CIRCLE_CNT\n",
    "train['SOCIAL_CIRCLE_CNT'] = train[['OBS_30_CNT_SOCIAL_CIRCLE', 'DEF_30_CNT_SOCIAL_CIRCLE', 'OBS_60_CNT_SOCIAL_CIRCLE', 'DEF_60_CNT_SOCIAL_CIRCLE']].sum(axis=1)\n",
    "train.drop(['OBS_30_CNT_SOCIAL_CIRCLE', 'DEF_30_CNT_SOCIAL_CIRCLE', 'OBS_60_CNT_SOCIAL_CIRCLE', 'DEF_60_CNT_SOCIAL_CIRCLE'], axis=1, inplace=True)\n",
    "\n",
    "\n",
    "# sum of inquiries\n",
    "train['AMT_REQ_CREDIT_BUREAU_TOTAL'] = train['AMT_REQ_CREDIT_BUREAU_HOUR'].fillna(0) + train['AMT_REQ_CREDIT_BUREAU_DAY'].fillna(0) + train['AMT_REQ_CREDIT_BUREAU_WEEK'].fillna(0) + train['AMT_REQ_CREDIT_BUREAU_MON'].fillna(0) + train['AMT_REQ_CREDIT_BUREAU_QRT'].fillna(0) + train['AMT_REQ_CREDIT_BUREAU_YEAR'].fillna(0)\n",
    "\n",
    "train = train.drop(['AMT_REQ_CREDIT_BUREAU_HOUR', 'AMT_REQ_CREDIT_BUREAU_DAY',\n",
    "                    'AMT_REQ_CREDIT_BUREAU_WEEK', 'AMT_REQ_CREDIT_BUREAU_MON',\n",
    "                    'AMT_REQ_CREDIT_BUREAU_QRT', 'AMT_REQ_CREDIT_BUREAU_YEAR'], axis=1)\n",
    "\n",
    "train_preprocessed = train\n"
   ]
  },
  {
   "cell_type": "markdown",
   "id": "0570e687-9c05-4fbc-b780-b73c902f0862",
   "metadata": {
    "tags": []
   },
   "source": [
    "## **PREVIOUS_APPLICATION.CSV**"
   ]
  },
  {
   "cell_type": "code",
   "execution_count": null,
   "id": "dd8d788a-bfd5-4cf7-9509-5857f59b3340",
   "metadata": {},
   "outputs": [],
   "source": [
    "prev = pd.read_csv('previous_application.csv')"
   ]
  },
  {
   "cell_type": "code",
   "execution_count": null,
   "id": "6de41e78-0530-4951-b06e-180c2286cbb3",
   "metadata": {},
   "outputs": [],
   "source": [
    "# interest rate column\n",
    "prev['INTEREST_RATE'] = (prev['AMT_ANNUITY'] * prev['CNT_PAYMENT'] - prev['AMT_CREDIT']) / prev['AMT_CREDIT']\n",
    "\n",
    "# credit:payments\n",
    "prev['CREDIT_PAYMENTS'] = prev['AMT_CREDIT'] / prev['CNT_PAYMENT']\n",
    "\n",
    "# credit:cost\n",
    "prev['CREDIT_COST'] = prev['AMT_CREDIT'] + prev['AMT_GOODS_PRICE']\n",
    "\n",
    "\n",
    "\n",
    "\n",
    "# dictionary of aggregations to be performed\n",
    "aggregations = {\n",
    "    'AMT_ANNUITY': ['mean', 'max', 'min'],\n",
    "    'AMT_APPLICATION': ['mean', 'max', 'min'],\n",
    "    'AMT_CREDIT': ['mean', 'max', 'min'],\n",
    "    'AMT_DOWN_PAYMENT': ['mean', 'max', 'min'],\n",
    "    'AMT_GOODS_PRICE': ['mean', 'max', 'min'],\n",
    "    'DAYS_DECISION': ['mean', 'max', 'min'],\n",
    "    'CNT_PAYMENT': ['mean'],\n",
    "    'INTEREST_RATE': ['max', 'min'],\n",
    "    'CREDIT_PAYMENTS': ['mean', 'max', 'min'],\n",
    "    'CREDIT_COST': ['mean', 'max', 'min']\n",
    "}\n",
    "\n"
   ]
  },
  {
   "cell_type": "code",
   "execution_count": null,
   "id": "6211db8e-167a-4684-aa4a-b786b5d9ac43",
   "metadata": {},
   "outputs": [],
   "source": [
    "# apply all aggregations to the 'prev' dataset\n",
    "prev_agg = prev.groupby('SK_ID_CURR').agg(aggregations)\n",
    "\n",
    "# flatten column names\n",
    "prev_agg.columns = ['_'.join(col).strip() for col in prev_agg.columns.values]\n",
    "\n",
    "# Impute missing values with column means\n",
    "prev_agg.fillna(prev_agg.mean(), inplace=True)\n"
   ]
  },
  {
   "cell_type": "code",
   "execution_count": null,
   "id": "f5e60e56-97a1-43be-b7ee-fdb615e8493e",
   "metadata": {},
   "outputs": [],
   "source": [
    "# merge aggregated 'prev' data with 'train'\n",
    "train_preprocessed['SK_ID_CURR'] = id_curr\n",
    "train_preprocessed['TARGET'] = target\n",
    "train_preprocessed = train.merge(prev_agg, on='SK_ID_CURR', how='left')\n"
   ]
  },
  {
   "cell_type": "markdown",
   "id": "d5ffdf7a-22b1-44b3-91d6-b00c341e5a87",
   "metadata": {},
   "source": [
    "Dropping the rows with missing values in the aggregation features is seemingly harmless, given that the distribution of the target variable suppresses negative outcomes in these rows. Therefore, we will drop all rows with na values at this point"
   ]
  },
  {
   "cell_type": "code",
   "execution_count": null,
   "id": "06bc4956-82a6-40fc-8567-74201559e3a3",
   "metadata": {},
   "outputs": [],
   "source": [
    "# check if dataframe has duplicate columns\n",
    "if len(train_preprocessed.columns) == len(set(train_preprocessed.columns)):\n",
    "    print(\"No duplicate columns\")\n",
    "else:\n",
    "    print(\"Duplicate columns detected. Removing duplicates...\")\n",
    "\n",
    "    # remove duplicate columns\n",
    "    train_preprocessed = train_preprocessed.loc[:, ~train_preprocessed.columns.duplicated()]\n",
    "\n",
    "    # check if duplicate columns were successfully removed\n",
    "    if len(train_preprocessed.columns) == len(set(train_preprocessed.columns)):\n",
    "        print(\"Duplicate columns removed\")\n",
    "    else:\n",
    "        print(\"Error: Duplicate columns still present\")\n"
   ]
  },
  {
   "cell_type": "markdown",
   "id": "9f761579-277e-46da-b9b3-e52391133335",
   "metadata": {
    "tags": []
   },
   "source": [
    "## **POS_CASH_BALANCE.CSV**"
   ]
  },
  {
   "cell_type": "code",
   "execution_count": null,
   "id": "0a90a625-51dc-41d3-9c61-2ff1f344e637",
   "metadata": {},
   "outputs": [],
   "source": [
    "pos_cash = pd.read_csv('POS_CASH_balance.csv')\n",
    "pos_cash.info()"
   ]
  },
  {
   "cell_type": "code",
   "execution_count": null,
   "id": "98b66358-2e88-408b-89be-67a0c4a67fc9",
   "metadata": {},
   "outputs": [],
   "source": [
    "pos_cash_agg_dict = {\n",
    "    'MONTHS_BALANCE': ['min', 'max'],\n",
    "    'CNT_INSTALMENT': ['min', 'max', 'mean'],\n",
    "    'CNT_INSTALMENT_FUTURE': ['min', 'max', 'mean'],\n",
    "    'SK_DPD': ['max', 'mean'],\n",
    "    'SK_DPD_DEF': ['max', 'mean']\n",
    "}\n"
   ]
  },
  {
   "cell_type": "code",
   "execution_count": null,
   "id": "4e0c5357-4986-4e6f-b293-cef08be3cc08",
   "metadata": {},
   "outputs": [],
   "source": [
    "# groupby SK_ID_CURR and aggregate\n",
    "pos_cash_grouped = pos_cash.groupby('SK_ID_CURR').agg(\n",
    "    pos_cash_agg_dict\n",
    ")\n",
    "\n",
    "# join with train on SK_ID_CURR\n",
    "train_preprocessed = train_preprocessed.merge(\n",
    "    pos_cash_grouped, on='SK_ID_CURR', how='left', suffixes=('','_POS')\n",
    ")\n"
   ]
  },
  {
   "cell_type": "markdown",
   "id": "60758c5f-82c2-4d72-b684-cd5e222c27b0",
   "metadata": {},
   "source": [
    "## **Credit Card**"
   ]
  },
  {
   "cell_type": "code",
   "execution_count": null,
   "id": "1ad664e6-b9cd-4d19-8291-693f15bfb426",
   "metadata": {},
   "outputs": [],
   "source": [
    "credit_card = pd.read_csv('credit_card_balance.csv')\n",
    "credit_card.info()"
   ]
  },
  {
   "cell_type": "code",
   "execution_count": null,
   "id": "d85057f7-90bb-4b59-8f6d-3d584afa34aa",
   "metadata": {},
   "outputs": [],
   "source": [
    "agg_dict = {\n",
    "    'AMT_BALANCE': ['sum', 'max', 'min', 'mean', 'median'],\n",
    "    'AMT_CREDIT_LIMIT_ACTUAL': ['sum', 'max', 'min', 'mean', 'median'],\n",
    "    'AMT_PAYMENT_TOTAL_CURRENT': ['sum', 'max', 'min', 'mean', 'median'],\n",
    "    'AMT_RECEIVABLE_PRINCIPAL': ['sum', 'max', 'min', 'mean', 'median'],\n",
    "    'AMT_RECIVABLE': ['sum', 'max', 'min', 'mean', 'median'],\n",
    "    'AMT_TOTAL_RECEIVABLE': ['sum', 'max', 'min', 'mean', 'median'],\n",
    "    'CNT_DRAWINGS_CURRENT': ['sum', 'max', 'min', 'mean', 'median'],\n",
    "    'SK_DPD': ['sum', 'max', 'min', 'mean', 'median'],\n",
    "    'SK_DPD_DEF': ['sum', 'max', 'min', 'mean', 'median']\n",
    "}\n"
   ]
  },
  {
   "cell_type": "code",
   "execution_count": null,
   "id": "2b35d03f-1d2b-454c-9e9e-449e995a0d24",
   "metadata": {},
   "outputs": [],
   "source": []
  },
  {
   "cell_type": "code",
   "execution_count": null,
   "id": "1c03b482-d35a-438b-90d1-f8297e7a8a44",
   "metadata": {},
   "outputs": [],
   "source": [
    "# groupby SK_ID_CURR and aggregate\n",
    "credit_card_grouped = credit_card.groupby('SK_ID_CURR').agg(\n",
    "    agg_dict\n",
    ")\n",
    "\n",
    "# join with train on SK_ID_CURR\n",
    "train_preprocessed = train_preprocessed.merge(\n",
    "    credit_card_grouped, on='SK_ID_CURR', how='left', suffixes=('','_POS')\n",
    ")\n"
   ]
  },
  {
   "cell_type": "code",
   "execution_count": null,
   "id": "853ebf30-f8e2-4ea6-806f-5771a41b3dbd",
   "metadata": {},
   "outputs": [],
   "source": [
    "count_na(credit_card_grouped)"
   ]
  },
  {
   "cell_type": "markdown",
   "id": "07054cdc-b90d-4bf1-b9d3-7f717401b7e6",
   "metadata": {},
   "source": [
    "## Sample Submissions"
   ]
  },
  {
   "cell_type": "code",
   "execution_count": null,
   "id": "b5171fd7-4422-482f-a8b1-317322cb8ba2",
   "metadata": {},
   "outputs": [],
   "source": [
    "bureau = pd.read_csv('bureau.csv')\n",
    "bureau.info()"
   ]
  },
  {
   "cell_type": "code",
   "execution_count": null,
   "id": "50f27b84-c58e-4729-afa0-9e8e14909307",
   "metadata": {},
   "outputs": [],
   "source": [
    "import pandas as pd\n",
    "\n",
    "# Load bureau.csv\n",
    "bureau = pd.read_csv('bureau.csv')\n",
    "\n",
    "# Define the aggregations to perform\n",
    "agg_dict = {\n",
    "    'DAYS_CREDIT': ['min', 'max', 'mean'],\n",
    "    'CREDIT_DAY_OVERDUE': ['max', 'mean'],\n",
    "    'AMT_CREDIT_MAX_OVERDUE': ['max', 'mean'],\n",
    "    'AMT_CREDIT_SUM': ['max', 'mean'],\n",
    "    'AMT_CREDIT_SUM_DEBT': ['max', 'mean'],\n",
    "    'AMT_CREDIT_SUM_OVERDUE': ['max', 'mean'],\n",
    "    'DAYS_CREDIT_UPDATE': ['max', 'mean'],\n",
    "    'CNT_CREDIT_PROLONG': ['sum']\n",
    "}\n",
    "\n",
    "# Perform the aggregations\n",
    "bureau_agg = bureau.groupby('SK_ID_CURR').agg(agg_dict)\n",
    "bureau_agg.columns = ['_'.join(col).strip() for col in bureau_agg.columns.values]\n",
    "\n",
    "# Merge with train_preprocessed\n",
    "train_preprocessed = pd.merge(train_preprocessed, bureau_agg, on='SK_ID_CURR', how='left')\n"
   ]
  },
  {
   "cell_type": "code",
   "execution_count": null,
   "id": "857a66da-0c51-48aa-abe9-3e13c9dc4186",
   "metadata": {},
   "outputs": [],
   "source": [
    "count_na(train_preprocessed)"
   ]
  },
  {
   "cell_type": "markdown",
   "id": "934b2c37-3dea-4fa9-be7f-539b2b372ce0",
   "metadata": {
    "tags": []
   },
   "source": [
    "## **FEATURE ENGINNERING**"
   ]
  },
  {
   "cell_type": "markdown",
   "id": "14a1b952-1e97-49e0-b5f5-982cb1f1b2de",
   "metadata": {
    "tags": []
   },
   "source": [
    "### **Further EDA**"
   ]
  },
  {
   "cell_type": "code",
   "execution_count": null,
   "id": "d0feef0d-6716-496c-b3cc-d81f557756ae",
   "metadata": {},
   "outputs": [],
   "source": [
    "train = train_preprocessed"
   ]
  },
  {
   "cell_type": "code",
   "execution_count": null,
   "id": "3423b13d-0007-4c4e-acb5-929d3d0718bd",
   "metadata": {},
   "outputs": [],
   "source": [
    "new_columns = []\n",
    "for col in train.columns:\n",
    "    if isinstance(col, tuple):\n",
    "        new_col = \"_\".join(str(c) for c in col)\n",
    "    else:\n",
    "        new_col = col\n",
    "    new_columns.append(new_col)\n",
    "\n",
    "train.columns = new_columns"
   ]
  },
  {
   "cell_type": "code",
   "execution_count": null,
   "id": "4b463a3b-e8e8-437a-8e79-652029e60112",
   "metadata": {},
   "outputs": [],
   "source": [
    "count_na(train)"
   ]
  },
  {
   "cell_type": "code",
   "execution_count": null,
   "id": "fc8b55eb-29fe-46ca-a5b8-c0a2df4281e0",
   "metadata": {},
   "outputs": [],
   "source": [
    "# ratios\n",
    "train['CREDIT_TO_ANNUITY'] = train['AMT_CREDIT'] / train['AMT_ANNUITY']\n",
    "train['CREDIT_TO_GOODS'] = train['AMT_CREDIT'] / train['AMT_GOODS_PRICE']\n",
    "train['ANNUITY_TO_INCOME'] = train['AMT_ANNUITY'] / train['AMT_INCOME_TOTAL']\n",
    "train['CREDIT_TO_INCOME'] = train['AMT_CREDIT'] / train['AMT_INCOME_TOTAL']\n",
    "train['GOODS_TO_INCOME'] = train['AMT_GOODS_PRICE'] / train['AMT_INCOME_TOTAL']\n",
    "train['DAYS_EMPLOYED_TO_BIRTH'] = train['DAYS_EMPLOYED'] / train['DAYS_BIRTH']\n",
    "train['INCOME_LENGTH'] = train['AMT_INCOME_TOTAL'] / train['DAYS_EMPLOYED']\n",
    "train['INCOME_PER_PERSON'] = train['AMT_INCOME_TOTAL'] / train['CNT_FAM_MEMBERS']\n",
    "train['INCOME_BY_AGE'] = train['AMT_INCOME_TOTAL'] / train['DAYS_BIRTH']\n",
    "train['EMPLOYMENT'] = train['DAYS_EMPLOYED'] / train['DAYS_BIRTH']\n",
    "train['CREDIT_INCOME'] = train['AMT_REQ_CREDIT_BUREAU_TOTAL'] / train['AMT_INCOME_TOTAL']\n",
    "\n"
   ]
  },
  {
   "cell_type": "markdown",
   "id": "6c59a7d5-b0be-4cb6-b62b-7f59a3cb493a",
   "metadata": {
    "tags": []
   },
   "source": [
    "### **Interaction Features**"
   ]
  },
  {
   "cell_type": "markdown",
   "id": "17a05f0f-2ab1-4209-a813-a2081492b0d6",
   "metadata": {},
   "source": [
    "Going to attempt adding a few interaction terms to capture more complex relationships. This approach can, however, lead to model overfitting we will continue to evaluate the performance of the model with varying inputs/parameters."
   ]
  },
  {
   "cell_type": "code",
   "execution_count": null,
   "id": "0c001092-e28d-4986-a257-b19d094c458c",
   "metadata": {},
   "outputs": [],
   "source": [
    "# Create interaction terms\n",
    "# create interaction terms between pairs of features\n",
    "train['INCOME_CREDIT'] = train['AMT_INCOME_TOTAL'] * train['AMT_CREDIT']\n",
    "train['CREDIT_GOODS'] = train['AMT_CREDIT'] * train['AMT_GOODS_PRICE']\n",
    "train['EMPLOYED_BIRTH'] = train['DAYS_EMPLOYED'] * train['DAYS_BIRTH']\n",
    "train['CHILDREN_INCOME'] = train['CNT_CHILDREN'] * train['AMT_INCOME_TOTAL']\n",
    "train['CHILDREN_CREDIT'] = train['CNT_CHILDREN'] * train['AMT_CREDIT']\n",
    "train['CHILDREN_ANNUITY'] = train['CNT_CHILDREN'] * train['AMT_ANNUITY']\n",
    "train['CREDIT_ANNUITY'] = train['AMT_CREDIT'] * train['AMT_ANNUITY']\n",
    "train['ANNUITY_INCOME'] = train['AMT_ANNUITY'] / train['AMT_INCOME_TOTAL']\n",
    "train['INCOME_PER_PERSON'] = train['AMT_INCOME_TOTAL'] / train['CNT_FAM_MEMBERS']\n"
   ]
  },
  {
   "cell_type": "markdown",
   "id": "a7ad86db-71bb-469e-b8d4-c69252bbeed4",
   "metadata": {
    "tags": []
   },
   "source": [
    "## **MODEL TRAINING/EVAL**"
   ]
  },
  {
   "cell_type": "markdown",
   "id": "55415c89-4171-4782-81cc-ec31e9384487",
   "metadata": {
    "tags": []
   },
   "source": [
    "### **SCALE FEATURES**"
   ]
  },
  {
   "cell_type": "code",
   "execution_count": null,
   "id": "37d43060-fcc5-4186-866b-8b4cbc4f4bfb",
   "metadata": {},
   "outputs": [],
   "source": [
    "# Replace infinite values with NaN\n",
    "train.replace([np.inf, -np.inf], np.nan, inplace=True)\n",
    "\n",
    "# Drop rows with NaN values\n",
    "train.dropna(inplace=True)\n",
    "\n",
    "# Check the number of rows and columns in the updated train dataset\n",
    "print(f'Number of Rows: {train.shape[0]}')\n",
    "print(f'Number of Columns: {train.shape[1]}')\n"
   ]
  },
  {
   "cell_type": "code",
   "execution_count": null,
   "id": "17a6a9b4-35ad-4e3f-84f9-6d304e143e64",
   "metadata": {},
   "outputs": [],
   "source": [
    "# Check for infinite or NaN values\n",
    "print(np.any(np.isnan(Xtrain)))\n",
    "print(np.any(np.isnan(Xtest)))\n",
    "print(np.any(np.isinf(Xtrain)))\n",
    "print(np.any(np.isinf(Xtest)))\n"
   ]
  },
  {
   "cell_type": "code",
   "execution_count": null,
   "id": "268d8690-8988-410f-9171-a6e83fe4b05a",
   "metadata": {},
   "outputs": [],
   "source": [
    "# Separate target and training data\n",
    "drops = ['TARGET', 'SK_ID_CURR']\n",
    "preprocessed_target = train['TARGET']\n",
    "y = preprocessed_target\n",
    "X = train.drop(drops, axis=1)\n",
    "\n",
    "\n",
    "# Split dataset into training and testing sets\n",
    "Xtrain, Xtest, ytrain, ytest = train_test_split(X, y, train_size=0.75, random_state=81)"
   ]
  },
  {
   "cell_type": "code",
   "execution_count": null,
   "id": "ad68d33f-102b-44e7-b156-b93510c86050",
   "metadata": {},
   "outputs": [],
   "source": [
    "# Create the scaler\n",
    "scaler = StandardScaler()"
   ]
  },
  {
   "cell_type": "code",
   "execution_count": null,
   "id": "bded990d-7e79-45c3-abbc-d8eee6702699",
   "metadata": {},
   "outputs": [],
   "source": [
    "# scale to mean 0 std dev 1\n",
    "Xtrain = scaler.fit_transform(Xtrain)\n",
    "Xtest = scaler.fit_transform(Xtest)\n",
    "Xtrain = pd.DataFrame(Xtrain, columns=X.columns)\n",
    "Xtest = pd.DataFrame(Xtest, columns=X.columns)"
   ]
  },
  {
   "cell_type": "markdown",
   "id": "376579eb-b9da-45b6-a48f-574789f1f6db",
   "metadata": {
    "tags": []
   },
   "source": [
    "### **PCA and SMOTE**"
   ]
  },
  {
   "cell_type": "code",
   "execution_count": null,
   "id": "dff2c0de-4c27-44be-af9e-1662cfc2a006",
   "metadata": {},
   "outputs": [],
   "source": [
    "# Reduce dimensionality with PCA\n",
    "pca = PCA(n_components=25)\n",
    "Xtrain_pca = pca.fit_transform(Xtrain)\n",
    "Xtest_pca = pca.transform(Xtest)\n",
    "\n",
    "\n",
    "# Perform SMOTE on the positive class\n",
    "smote = SMOTE(random_state=81, sampling_strategy=0.25)\n",
    "Xtrain_resampled, ytrain_resampled = smote.fit_resample(Xtrain_pca, ytrain)\n",
    "# will be removed from final version if not applicable.\n"
   ]
  },
  {
   "cell_type": "markdown",
   "id": "e12b9e1b-285a-4fcb-ba2f-90c1be7bb88b",
   "metadata": {
    "tags": []
   },
   "source": [
    "### **TRAINING**"
   ]
  },
  {
   "cell_type": "markdown",
   "id": "c0a30129-906f-42a2-89dc-5111ad8cb6b4",
   "metadata": {
    "tags": []
   },
   "source": [
    "#### **RandomForest**"
   ]
  },
  {
   "cell_type": "markdown",
   "id": "95c56870-aa2b-40a5-90a5-f83603dd8670",
   "metadata": {
    "jp-MarkdownHeadingCollapsed": true,
    "tags": []
   },
   "source": [
    "##### Randomized Search for Hyperparameters"
   ]
  },
  {
   "cell_type": "code",
   "execution_count": null,
   "id": "39bb3a34-637b-40cd-b4ce-a44c874dcc6f",
   "metadata": {},
   "outputs": [],
   "source": [
    "# use 'parameters_and_importances' function to run RandomizedSearchCV for the RandomForest Classifier\n",
    "feature_importances, optimal_hyperparameters = parameters_and_importances(Xtrain_resampled, ytrain_resampled)\n",
    "print(optimal_hyperparameters)"
   ]
  },
  {
   "cell_type": "markdown",
   "id": "08157558-8c8e-4bae-95dc-d7b894edbd1c",
   "metadata": {
    "tags": []
   },
   "source": [
    "##### Train"
   ]
  },
  {
   "cell_type": "code",
   "execution_count": null,
   "id": "bc03840f-f3cf-47a2-a07c-e8e7ddf7637a",
   "metadata": {
    "tags": []
   },
   "outputs": [],
   "source": [
    "%%time\n",
    "\n",
    "rf = RandomForestClassifier(\n",
    "    n_estimators=100, min_samples_split=2, min_samples_leaf=2, max_features='sqrt', max_depth=10, criterion='entropy', class_weight={0:1, 1:9.5}\n",
    ")\n",
    "rf.fit(Xtrain_resampled, ytrain_resampled)\n",
    "\n",
    "# Make predictions on the test data\n",
    "y_pred = rf.predict(Xtest_pca)\n",
    "y_pred_proba = rf.predict_proba(Xtest_pca)[:, 1]\n"
   ]
  },
  {
   "cell_type": "markdown",
   "id": "7f5bbacd-5f88-4fde-9d69-a23bbcb567d8",
   "metadata": {
    "tags": []
   },
   "source": [
    "##### Evaluation Metrics"
   ]
  },
  {
   "cell_type": "code",
   "execution_count": null,
   "id": "4b0e9ffd-65a6-4452-8c69-8d524834173b",
   "metadata": {},
   "outputs": [],
   "source": [
    "\n",
    "# Evaluate model performance\n",
    "print(\"Accuracy:\", accuracy_score(ytest, y_pred))\n",
    "print(\"Precision:\", precision_score(ytest, y_pred))\n",
    "print(\"Recall:\", recall_score(ytest, y_pred))\n",
    "print(\"F1-Score:\", f1_score(ytest, y_pred))\n",
    "print(\"ROC-AUC Score:\", roc_auc_score(ytest, y_pred_proba))\n",
    "\n",
    "# Generate confusion matrix\n",
    "cm = confusion_matrix(ytest, y_pred)\n",
    "sns.heatmap(cm, annot=True, cmap='Blues', fmt='g')\n",
    "plt.xlabel('Predicted')\n",
    "plt.ylabel('True')\n",
    "plt.show()\n"
   ]
  },
  {
   "cell_type": "markdown",
   "id": "caf98f3a-d3ac-49b4-b12f-06cad36ca9bb",
   "metadata": {
    "tags": []
   },
   "source": [
    "#### **XGBoost**"
   ]
  },
  {
   "cell_type": "markdown",
   "id": "7e19aa4d-22fc-4302-8386-3ce66521da28",
   "metadata": {
    "tags": []
   },
   "source": [
    "##### Randomized Search for hyperparameters"
   ]
  },
  {
   "cell_type": "code",
   "execution_count": null,
   "id": "6c64e2c2-9bd4-44b3-b3b2-53c7c153ff24",
   "metadata": {},
   "outputs": [],
   "source": [
    "# Define the hyperparameter grid\n",
    "params = {\n",
    "    'n_estimators': [50, 100, 200],\n",
    "    'max_depth': [3, 5, 7],\n",
    "    'learning_rate': [0.1, 0.25, 0.5],\n",
    "    'scale_pos_weight': [2, 4, 8]\n",
    "}\n",
    "\n",
    "xgb_model = XGBClassifier()\n",
    "random_search = RandomizedSearchCV(\n",
    "    xgb_model,\n",
    "    param_distributions=params,\n",
    "    n_iter=10,\n",
    "    scoring='roc_auc',\n",
    "    n_jobs=-1,\n",
    "    cv=5,\n",
    "    verbose=3\n",
    ")\n",
    "\n",
    "random_search.fit(X_train_resampled, y_train_resampled)\n",
    "best_params = random_search.best_params_\n",
    "print(best_params)\n"
   ]
  },
  {
   "cell_type": "markdown",
   "id": "23ac0a97-c57f-4fcd-8aac-4a3119b3b416",
   "metadata": {
    "tags": []
   },
   "source": [
    "##### Train"
   ]
  },
  {
   "cell_type": "code",
   "execution_count": null,
   "id": "af69790c-6c7f-4d9d-b4d3-2bf1568670e7",
   "metadata": {
    "tags": []
   },
   "outputs": [],
   "source": [
    "# mess around with scale_pos_weight\n",
    "\n",
    "# Fit an XGBoost model to the resampled training data\n",
    "xgb_model = xgb.XGBClassifier(\n",
    "    n_estimators=100, max_depth=5, learning_rate=0.1, scale_pos_weight=8,\n",
    ")\n",
    "xgb_model.fit(Xtrain_resampled, ytrain_resampled)\n"
   ]
  },
  {
   "cell_type": "markdown",
   "id": "39a267b1-1053-4ab3-917d-3d6a43cf2ef9",
   "metadata": {
    "tags": []
   },
   "source": [
    "##### Evaluation Metrics"
   ]
  },
  {
   "cell_type": "code",
   "execution_count": null,
   "id": "f69c3e1e-4e39-472e-84cb-75ba2717a476",
   "metadata": {},
   "outputs": [],
   "source": [
    "\n",
    "y_pred = xgb_model.predict(Xtest_pca)\n",
    "y_proba = xgb_model.predict_proba(Xtest_pca)[:, 1]\n",
    "\n",
    "# Compute the confusion matrix\n",
    "cm = confusion_matrix(ytest, y_pred)\n",
    "\n",
    "# Plot the confusion matrix\n",
    "sns.heatmap(cm, annot=True, cmap='Blues')\n",
    "plt.title('Confusion Matrix')\n",
    "plt.xlabel('Predicted Labels')\n",
    "plt.ylabel('True Labels')\n",
    "plt.show()\n",
    "\n",
    "# Print the evaluation metrics\n",
    "print(\"Accuracy:\", accuracy_score(ytest, y_pred))\n",
    "print(\"Precision:\", precision_score(ytest, y_pred))\n",
    "print(\"Recall:\", recall_score(ytest, y_pred))\n",
    "print(\"F1-Score:\", f1_score(ytest, y_pred))\n",
    "print(\"ROC-AUC Score:\", roc_auc_score(ytest, y_proba))\n"
   ]
  },
  {
   "cell_type": "code",
   "execution_count": null,
   "id": "a222b236-afd8-4a07-81b9-a54c40199ace",
   "metadata": {
    "tags": []
   },
   "outputs": [],
   "source": [
    "fpr, tpr, thresholds = roc_curve(ytest, y_proba)\n",
    "roc_auc = auc(fpr, tpr)\n",
    "plt.plot(fpr, tpr, color=\"darkorange\", lw=2, label=\"ROC curve (area = %0.2f)\" % roc_auc)\n",
    "plt.plot([0, 1], [0, 1], color=\"navy\", lw=2, linestyle=\"--\")\n",
    "plt.fill_between(fpr, tpr, color=\"orange\", alpha=0.5)\n",
    "plt.xlim([0.0, 1.])\n",
    "plt.ylim([0.0, 1.])\n",
    "plt.xlabel(\"False Positive Rate\")\n",
    "plt.ylabel(\"True Positive Rate\")\n",
    "plt.title(\"Receiver Operating Characteristic\")\n",
    "plt.legend(loc=\"lower right\")\n",
    "plt.show()\n"
   ]
  },
  {
   "cell_type": "code",
   "execution_count": null,
   "id": "44f72654-57bd-4a2a-8987-fcc9146d99cd",
   "metadata": {},
   "outputs": [],
   "source": []
  },
  {
   "cell_type": "code",
   "execution_count": null,
   "id": "9123ef82-a627-4b7d-b1fb-c19083f1798e",
   "metadata": {},
   "outputs": [],
   "source": []
  },
  {
   "cell_type": "code",
   "execution_count": null,
   "id": "07b44ad2-fb0e-4ab7-86b5-e73e6dfda360",
   "metadata": {},
   "outputs": [],
   "source": []
  },
  {
   "cell_type": "code",
   "execution_count": null,
   "id": "353f9c70-09b0-488f-8eec-844fbc50fc54",
   "metadata": {},
   "outputs": [],
   "source": []
  },
  {
   "cell_type": "code",
   "execution_count": null,
   "id": "d1a3394e-37ea-4f14-8b9d-cfd816436210",
   "metadata": {},
   "outputs": [],
   "source": []
  },
  {
   "cell_type": "code",
   "execution_count": null,
   "id": "a8287979-99e0-4537-8be7-413673ced1b5",
   "metadata": {},
   "outputs": [],
   "source": []
  },
  {
   "cell_type": "code",
   "execution_count": null,
   "id": "58d6eaea-e5ed-4fdf-805b-c21a05b8055b",
   "metadata": {},
   "outputs": [],
   "source": []
  },
  {
   "cell_type": "code",
   "execution_count": null,
   "id": "93fbc090-8bbd-4ba2-8bae-9b4054e37f88",
   "metadata": {},
   "outputs": [],
   "source": []
  },
  {
   "cell_type": "code",
   "execution_count": null,
   "id": "0effed86-0747-4027-bf6e-96a4c90cf3d6",
   "metadata": {},
   "outputs": [],
   "source": []
  },
  {
   "cell_type": "code",
   "execution_count": null,
   "id": "4f15d2cc-b870-4133-9c83-0ff468add244",
   "metadata": {},
   "outputs": [],
   "source": []
  },
  {
   "cell_type": "code",
   "execution_count": null,
   "id": "6745f218-676a-41fd-823a-fffe83b1999b",
   "metadata": {},
   "outputs": [],
   "source": []
  }
 ],
 "metadata": {
  "kernelspec": {
   "display_name": "Python 3 (ipykernel)",
   "language": "python",
   "name": "python3"
  },
  "language_info": {
   "codemirror_mode": {
    "name": "ipython",
    "version": 3
   },
   "file_extension": ".py",
   "mimetype": "text/x-python",
   "name": "python",
   "nbconvert_exporter": "python",
   "pygments_lexer": "ipython3",
   "version": "3.9.7"
  }
 },
 "nbformat": 4,
 "nbformat_minor": 5
}
