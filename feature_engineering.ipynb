{
 "cells": [
  {
   "cell_type": "markdown",
   "id": "d6a87359-75cb-42bc-a6f7-0f12e830010c",
   "metadata": {
    "tags": []
   },
   "source": [
    "# **FEATURE ENGINEERING**"
   ]
  },
  {
   "cell_type": "markdown",
   "id": "1f4ee52d-1df0-4879-b967-976302c6a1a9",
   "metadata": {
    "tags": []
   },
   "source": [
    "## **IMPORTS/TRAIN.CSV**"
   ]
  },
  {
   "cell_type": "code",
   "execution_count": 66,
   "id": "e70f4b1a-b726-4b48-9a53-a08f6d304902",
   "metadata": {},
   "outputs": [],
   "source": [
    "# Import Required Packages\n",
    "import matplotlib.pyplot as plt\n",
    "import numpy as np\n",
    "import pandas as pd\n",
    "import seaborn as sns\n",
    "import xgboost as xgb\n",
    "from imblearn.over_sampling import SMOTE\n",
    "from sklearn.decomposition import PCA\n",
    "from sklearn.ensemble import RandomForestClassifier\n",
    "from sklearn.impute import SimpleImputer\n",
    "from sklearn.linear_model import LogisticRegression\n",
    "from sklearn.preprocessing import StandardScaler\n",
    "from sklearn.preprocessing import LabelEncoder\n",
    "from sklearn.metrics import accuracy_score, precision_score, recall_score, f1_score\n",
    "from sklearn.metrics import auc, confusion_matrix, classification_report, roc_curve, roc_auc_score\n",
    "from sklearn.model_selection import RandomizedSearchCV\n",
    "from sklearn.model_selection import train_test_split\n",
    "from xgboost import XGBClassifier"
   ]
  },
  {
   "cell_type": "code",
   "execution_count": 67,
   "id": "2a5ed717-9f2c-4e88-9cbd-df82c65ab9f3",
   "metadata": {},
   "outputs": [
    {
     "name": "stdout",
     "output_type": "stream",
     "text": [
      "Num of columns:  122\n",
      "Num of rows:  307511\n"
     ]
    }
   ],
   "source": [
    "train = pd.read_csv('application_train.csv')\n",
    "print('Num of columns: ', train.shape[1])\n",
    "print('Num of rows: ', train.shape[0])"
   ]
  },
  {
   "cell_type": "markdown",
   "id": "90bcd86e-bd31-4b30-8538-b33b25754ed1",
   "metadata": {
    "tags": []
   },
   "source": [
    "## **INITIAL EDA**"
   ]
  },
  {
   "cell_type": "code",
   "execution_count": 147,
   "id": "5e1f82c6-645a-409b-90f4-2ce510add4d3",
   "metadata": {},
   "outputs": [
    {
     "name": "stdout",
     "output_type": "stream",
     "text": [
      "0    178584\n",
      "1     14536\n",
      "Name: TARGET, dtype: int64\n"
     ]
    },
    {
     "data": {
      "image/png": "[encoded data removed]",
      "text/plain": [
       "<Figure size 1000x300 with 1 Axes>"
      ]
     },
     "metadata": {},
     "output_type": "display_data"
    }
   ],
   "source": [
    "counts = train['TARGET'].value_counts() # collect the counts of 0's and 1's\n",
    "print(counts)\n",
    "fig, ax = plt.subplots(figsize=(10,3))\n",
    "ax.bar(counts.index, counts.values, color=['black', 'orange'])\n",
    "ax.set_xticks([0,1])\n",
    "ax.set_xlabel('Target')\n",
    "ax.set_ylabel('Frequency')\n",
    "ax.set_title('Distribution of Target Variable')\n",
    "plt.show()"
   ]
  },
  {
   "cell_type": "markdown",
   "id": "854613a8-eadf-4eb5-a885-b8293fbcced3",
   "metadata": {
    "tags": []
   },
   "source": [
    "## **TRAIN.CSV PREPROCESSING**"
   ]
  },
  {
   "cell_type": "code",
   "execution_count": 69,
   "id": "dc49462d-56ff-4356-9c54-ee2e288ee1f8",
   "metadata": {},
   "outputs": [],
   "source": [
    "# Split the train data into manageable sets by dtype\n",
    "target = train['TARGET']\n",
    "id_curr = train['SK_ID_CURR']\n",
    "int_features = train.select_dtypes(include='int64')\n",
    "float_features = train.select_dtypes(include='float64')\n",
    "object_features = train.select_dtypes(include='object')"
   ]
  },
  {
   "cell_type": "markdown",
   "id": "e4341395-b86a-4889-821c-144cc6e7bca8",
   "metadata": {
    "tags": []
   },
   "source": [
    "### **OBJECT FEATURES**\n",
    "We will preprocess each object feature individually, depending on which encoding method seems viable for the column."
   ]
  },
  {
   "cell_type": "code",
   "execution_count": 70,
   "id": "99332cc2-c572-4cca-872c-960bc1ed8abd",
   "metadata": {},
   "outputs": [],
   "source": [
    "# Remove Features with too many NA's\n",
    "drops = ['FONDKAPREMONT_MODE', 'HOUSETYPE_MODE', 'WALLSMATERIAL_MODE', 'EMERGENCYSTATE_MODE', 'WEEKDAY_APPR_PROCESS_START']\n",
    "object_features = object_features.drop(drops, axis=1)"
   ]
  },
  {
   "cell_type": "code",
   "execution_count": 71,
   "id": "e319a5c8-101d-4eea-a0a2-d395381a429a",
   "metadata": {},
   "outputs": [
    {
     "name": "stdout",
     "output_type": "stream",
     "text": [
      "Amount of NA's in each column: \n",
      "--------------------------------------------------\n",
      "0. NAME_CONTRACT_TYPE: 0\n",
      "1. CODE_GENDER: 0\n",
      "2. FLAG_OWN_CAR: 0\n",
      "3. FLAG_OWN_REALTY: 0\n",
      "4. NAME_TYPE_SUITE: 1292\n",
      "5. NAME_INCOME_TYPE: 0\n",
      "6. NAME_EDUCATION_TYPE: 0\n",
      "7. NAME_FAMILY_STATUS: 0\n",
      "8. NAME_HOUSING_TYPE: 0\n",
      "9. OCCUPATION_TYPE: 96391\n",
      "10. ORGANIZATION_TYPE: 0\n",
      "-------------------------------------------------- \n",
      "\n"
     ]
    },
    {
     "data": {
      "text/plain": [
       "'Amount of Columns: 11'"
      ]
     },
     "execution_count": 71,
     "metadata": {},
     "output_type": "execute_result"
    }
   ],
   "source": [
    "# define a function to count na's in each column and return them neatly. \n",
    "\n",
    "def count_na(df):\n",
    "    # Count NA values in features\n",
    "    print(f'Amount of NA\\'s in each column: ')\n",
    "    print('-'*50)\n",
    "    count = 0\n",
    "    for col in df:\n",
    "        print(f'{count}. {col}: {df[col].isna().sum()}')\n",
    "        count += 1 \n",
    "    print('-'*50, '\\n')\n",
    "    return f'Amount of Columns: {count}'\n",
    "\n",
    "count_na(object_features)\n",
    "# we will return to this function after preprocessing viable object features"
   ]
  },
  {
   "cell_type": "markdown",
   "id": "4c8a48db-b20f-44f1-8a34-e0846ae4f296",
   "metadata": {},
   "source": [
    "**We will assume that an 'NaN' values for 'OCCUPATION_TYPE' and 'NAME_TYPE_SUITE' hold significance in relation to default. The next step is to determine which encoding method will be used on each feature. Some of the features, like 'CODE_GENDER', 'FLAG_OWN_CAR', etc. will simply require an applied map to change non-numeric binary labels to 1's and 0's.**"
   ]
  },
  {
   "cell_type": "code",
   "execution_count": 72,
   "id": "633720ad-cca1-4385-b1d4-2485cdca39bf",
   "metadata": {},
   "outputs": [],
   "source": [
    "def weight_of_evidence_encode(df, column_name, label):\n",
    "    \"\"\"\n",
    "    Pass train df, name of column to be encoded, and target column.\n",
    "    \"\"\"\n",
    "    epsilon = 1e-6\n",
    "    pos = df.groupby(column_name)[label].mean() + epsilon\n",
    "    neg = 1 - pos + epsilon\n",
    "    weight_of_evidence = np.log(pos / neg)\n",
    "    \n",
    "    woe_dict = weight_of_evidence.to_dict()\n",
    "    woe_encoded = df[column_name].map(woe_dict)\n",
    "    \n",
    "    return woe_encoded\n"
   ]
  },
  {
   "cell_type": "code",
   "execution_count": 73,
   "id": "981f2d7e-cd33-4a72-915e-72dc387e5356",
   "metadata": {},
   "outputs": [],
   "source": [
    "# One-Hot encoding was unsuccessful the first time around, however, this\n",
    "# function will remain in the notebok in case it is needed later\n",
    "def one_hot_encode(dataframe, column, drop_first=True):\n",
    "    \"\"\"\n",
    "    One hot encode specified column\n",
    "    \"\"\"\n",
    "    return pd.get_dummies(dataframe, columns=[column])\n"
   ]
  },
  {
   "cell_type": "markdown",
   "id": "f547c18a-3db1-420c-ae24-74282f897d3e",
   "metadata": {
    "tags": []
   },
   "source": [
    "#### Occupation Feature"
   ]
  },
  {
   "cell_type": "markdown",
   "id": "ae39b7d7-aba5-465d-9b39-fb99699be2bd",
   "metadata": {},
   "source": [
    "Weight of Evidence Encoding: \n",
    " - Natural log of the ratio of prob (default) : prob (pay back) for each unique value of the column"
   ]
  },
  {
   "cell_type": "code",
   "execution_count": 74,
   "id": "eb93939d-e9bc-4e37-8089-f3732940b4b7",
   "metadata": {},
   "outputs": [],
   "source": [
    "\n",
    "object_features['TARGET'] = target\n",
    "object_features['OCCUPATION_TYPE'].fillna('not submitted', inplace=True)\n",
    "object_features['OCCUPATION_TYPE'] = weight_of_evidence_encode(\n",
    "    object_features, 'OCCUPATION_TYPE', 'TARGET'\n",
    ")\n"
   ]
  },
  {
   "cell_type": "markdown",
   "id": "f6d0e9f1-1da9-45da-92fe-7dab9a9c8ef0",
   "metadata": {
    "tags": []
   },
   "source": [
    "#### Binary String Features"
   ]
  },
  {
   "cell_type": "code",
   "execution_count": 75,
   "id": "fc340836-5e39-44da-bc10-cddcdca94f80",
   "metadata": {},
   "outputs": [],
   "source": [
    "# fill missing in gender with M\n",
    "object_features['CODE_GENDER'] = object_features['CODE_GENDER'].fillna('M')\n",
    "\n",
    "# map ('M' and 'F') and ('Y' and 'N')to 1 and 0, respectively. \n",
    "mapping = {'Y': 1, 'N': 0, 'M': 1, 'F': 0, 'Cash loans': 0, 'Revolving loans': 1}\n",
    "string_cols = ['CODE_GENDER', 'FLAG_OWN_CAR', 'FLAG_OWN_REALTY', 'NAME_CONTRACT_TYPE']\n",
    "object_features[string_cols] = object_features[string_cols].applymap(mapping.get)"
   ]
  },
  {
   "cell_type": "code",
   "execution_count": 76,
   "id": "768e375f-1c12-4d59-b2b8-67558672ac8e",
   "metadata": {},
   "outputs": [],
   "source": [
    "object_features['CODE_GENDER'] = object_features['CODE_GENDER'].fillna(object_features['CODE_GENDER'].mode().iloc[0])"
   ]
  },
  {
   "cell_type": "markdown",
   "id": "ff791b4e-3d05-43ae-a2b3-04039b57c0e3",
   "metadata": {
    "tags": []
   },
   "source": [
    "#### NAME_TYPE_SUITE"
   ]
  },
  {
   "cell_type": "code",
   "execution_count": 77,
   "id": "82e6f81b-6e40-4cd8-a165-49143646652a",
   "metadata": {},
   "outputs": [
    {
     "name": "stdout",
     "output_type": "stream",
     "text": [
      "['Unaccompanied' 'Family' 'Spouse, partner' 'Children' 'Other_A'\n",
      " 'not submitted' 'Other_B' 'Group of people']\n"
     ]
    }
   ],
   "source": [
    "\n",
    "# fill missing values in the NAME_TYPE_SUITE column with 'not submitted'\n",
    "object_features['NAME_TYPE_SUITE'] = object_features['NAME_TYPE_SUITE'].fillna('not submitted')\n",
    "\n",
    "# check the unique values in the NAME_TYPE_SUITE column\n",
    "print(object_features['NAME_TYPE_SUITE'].unique())\n"
   ]
  },
  {
   "cell_type": "code",
   "execution_count": 78,
   "id": "2208bbea-928f-421d-bba4-d2515c331f34",
   "metadata": {},
   "outputs": [
    {
     "data": {
      "text/html": [
       "<div>\n",
       "<style scoped>\n",
       "    .dataframe tbody tr th:only-of-type {\n",
       "        vertical-align: middle;\n",
       "    }\n",
       "\n",
       "    .dataframe tbody tr th {\n",
       "        vertical-align: top;\n",
       "    }\n",
       "\n",
       "    .dataframe thead th {\n",
       "        text-align: right;\n",
       "    }\n",
       "</style>\n",
       "<table border=\"1\" class=\"dataframe\">\n",
       "  <thead>\n",
       "    <tr style=\"text-align: right;\">\n",
       "      <th>TARGET</th>\n",
       "      <th>0</th>\n",
       "      <th>1</th>\n",
       "      <th>posneg_ratio</th>\n",
       "    </tr>\n",
       "    <tr>\n",
       "      <th>NAME_TYPE_SUITE</th>\n",
       "      <th></th>\n",
       "      <th></th>\n",
       "      <th></th>\n",
       "    </tr>\n",
       "  </thead>\n",
       "  <tbody>\n",
       "    <tr>\n",
       "      <th>Children</th>\n",
       "      <td>3026</td>\n",
       "      <td>241</td>\n",
       "      <td>0.079643</td>\n",
       "    </tr>\n",
       "    <tr>\n",
       "      <th>Family</th>\n",
       "      <td>37140</td>\n",
       "      <td>3009</td>\n",
       "      <td>0.081018</td>\n",
       "    </tr>\n",
       "    <tr>\n",
       "      <th>Group of people</th>\n",
       "      <td>248</td>\n",
       "      <td>23</td>\n",
       "      <td>0.092742</td>\n",
       "    </tr>\n",
       "    <tr>\n",
       "      <th>Other_A</th>\n",
       "      <td>790</td>\n",
       "      <td>76</td>\n",
       "      <td>0.096203</td>\n",
       "    </tr>\n",
       "    <tr>\n",
       "      <th>Other_B</th>\n",
       "      <td>1596</td>\n",
       "      <td>174</td>\n",
       "      <td>0.109023</td>\n",
       "    </tr>\n",
       "    <tr>\n",
       "      <th>Spouse, partner</th>\n",
       "      <td>10475</td>\n",
       "      <td>895</td>\n",
       "      <td>0.085442</td>\n",
       "    </tr>\n",
       "    <tr>\n",
       "      <th>Unaccompanied</th>\n",
       "      <td>228189</td>\n",
       "      <td>20337</td>\n",
       "      <td>0.089123</td>\n",
       "    </tr>\n",
       "    <tr>\n",
       "      <th>not submitted</th>\n",
       "      <td>1222</td>\n",
       "      <td>70</td>\n",
       "      <td>0.057283</td>\n",
       "    </tr>\n",
       "  </tbody>\n",
       "</table>\n",
       "</div>"
      ],
      "text/plain": [
       "TARGET                0      1  posneg_ratio\n",
       "NAME_TYPE_SUITE                             \n",
       "Children           3026    241      0.079643\n",
       "Family            37140   3009      0.081018\n",
       "Group of people     248     23      0.092742\n",
       "Other_A             790     76      0.096203\n",
       "Other_B            1596    174      0.109023\n",
       "Spouse, partner   10475    895      0.085442\n",
       "Unaccompanied    228189  20337      0.089123\n",
       "not submitted      1222     70      0.057283"
      ]
     },
     "execution_count": 78,
     "metadata": {},
     "output_type": "execute_result"
    }
   ],
   "source": [
    "# group by 'NAME_TYPE_SUITE' and count the number of occurrences of 0's and 1's in the 'TARGET' column\n",
    "counts = object_features.groupby(['NAME_TYPE_SUITE', 'TARGET']).size().unstack(fill_value=0)\n",
    "counts['posneg_ratio'] = counts[1] / counts[0]\n",
    "counts"
   ]
  },
  {
   "cell_type": "markdown",
   "id": "d62b5fc3-e6a7-4c5b-b2cd-9e4bfc8cc0f1",
   "metadata": {},
   "source": [
    "Referring back to the EDA section, the total weight of positive cases in the dataset is 0.08782"
   ]
  },
  {
   "cell_type": "code",
   "execution_count": 79,
   "id": "828bb843-b914-4ffd-bcd5-71b4fd35ed98",
   "metadata": {},
   "outputs": [],
   "source": [
    "# bin the 'NAME_TYPE_SUITE' values into three separate bins of nearest values\n",
    "\n",
    "suite_mapping = {\n",
    "    'Children': 0.079643,\n",
    "    'Family': 0.081018,\n",
    "    'Group of people': 0.092742,\n",
    "    'Other_A': 0.096203,\n",
    "    'Other_B': 0.109023,\n",
    "    'Spouse, partner': 0.085442,\n",
    "    'Unaccompanied': 0.089123,\n",
    "    'not submitted': 0.057283,\n",
    "}\n",
    "\n",
    "bins = [0, 0.082, 0.09, 0.11]\n",
    "labels = [0, 1, 2]\n",
    "object_features['NAME_TYPE_SUITE'] = object_features['NAME_TYPE_SUITE'].map(suite_mapping)\n",
    "object_features['NAME_TYPE_SUITE_BINNED'] = pd.cut(object_features['NAME_TYPE_SUITE'], bins=bins, labels=labels)\n",
    "object_features.drop('NAME_TYPE_SUITE', axis=1, inplace=True)"
   ]
  },
  {
   "cell_type": "markdown",
   "id": "f3e8143e-06bd-4cc1-ab9a-69457057a540",
   "metadata": {
    "tags": []
   },
   "source": [
    "#### Organization Type"
   ]
  },
  {
   "cell_type": "markdown",
   "id": "7f8b16ca-7790-477d-9f3e-b0d65059267a",
   "metadata": {},
   "source": [
    "Once again - given the large amount of unique values in this column - it will be Weight of Evidence encoded."
   ]
  },
  {
   "cell_type": "code",
   "execution_count": 80,
   "id": "85b89f53-9f12-4c03-a7c0-f009e3b9b653",
   "metadata": {},
   "outputs": [
    {
     "data": {
      "text/plain": [
       "array(['Business Entity Type 3', 'School', 'Government', 'Religion',\n",
       "       'Other', 'XNA', 'Electricity', 'Medicine',\n",
       "       'Business Entity Type 2', 'Self-employed', 'Transport: type 2',\n",
       "       'Construction', 'Housing', 'Kindergarten', 'Trade: type 7',\n",
       "       'Industry: type 11', 'Military', 'Services', 'Security Ministries',\n",
       "       'Transport: type 4', 'Industry: type 1', 'Emergency', 'Security',\n",
       "       'Trade: type 2', 'University', 'Transport: type 3', 'Police',\n",
       "       'Business Entity Type 1', 'Postal', 'Industry: type 4',\n",
       "       'Agriculture', 'Restaurant', 'Culture', 'Hotel',\n",
       "       'Industry: type 7', 'Trade: type 3', 'Industry: type 3', 'Bank',\n",
       "       'Industry: type 9', 'Insurance', 'Trade: type 6',\n",
       "       'Industry: type 2', 'Transport: type 1', 'Industry: type 12',\n",
       "       'Mobile', 'Trade: type 1', 'Industry: type 5', 'Industry: type 10',\n",
       "       'Legal Services', 'Advertising', 'Trade: type 5', 'Cleaning',\n",
       "       'Industry: type 13', 'Trade: type 4', 'Telecom',\n",
       "       'Industry: type 8', 'Realtor', 'Industry: type 6'], dtype=object)"
      ]
     },
     "execution_count": 80,
     "metadata": {},
     "output_type": "execute_result"
    }
   ],
   "source": [
    "object_features['ORGANIZATION_TYPE'].unique()"
   ]
  },
  {
   "cell_type": "code",
   "execution_count": 81,
   "id": "bdb551c3-65c9-493c-8970-19fd1dd00ae4",
   "metadata": {},
   "outputs": [],
   "source": [
    "object_features['ORGANIZATION_TYPE'] = weight_of_evidence_encode(\n",
    "    object_features, 'ORGANIZATION_TYPE', 'TARGET'\n",
    ")"
   ]
  },
  {
   "cell_type": "markdown",
   "id": "b20f7071-9bdc-470d-9284-6af5e5c635a7",
   "metadata": {
    "tags": []
   },
   "source": [
    "#### Housing Type"
   ]
  },
  {
   "cell_type": "code",
   "execution_count": 82,
   "id": "d66b098d-7ba2-4708-a7ce-cac871cc0903",
   "metadata": {},
   "outputs": [
    {
     "data": {
      "text/plain": [
       "array(['House / apartment', 'Rented apartment', 'With parents',\n",
       "       'Municipal apartment', 'Office apartment', 'Co-op apartment'],\n",
       "      dtype=object)"
      ]
     },
     "execution_count": 82,
     "metadata": {},
     "output_type": "execute_result"
    }
   ],
   "source": [
    "object_features['NAME_HOUSING_TYPE'].unique()"
   ]
  },
  {
   "cell_type": "code",
   "execution_count": 83,
   "id": "88ba3384-2312-4ae0-81fb-5b9796a14722",
   "metadata": {
    "tags": []
   },
   "outputs": [],
   "source": [
    "object_features['NAME_HOUSING_TYPE'] =  weight_of_evidence_encode(\n",
    "    object_features, 'NAME_HOUSING_TYPE', 'TARGET'\n",
    ")"
   ]
  },
  {
   "cell_type": "markdown",
   "id": "33dfde79-8644-4a1a-8d34-9ee3a14a8abf",
   "metadata": {
    "tags": []
   },
   "source": [
    "#### Income Type"
   ]
  },
  {
   "cell_type": "code",
   "execution_count": 84,
   "id": "d5f32f95-1b19-4e31-aa9a-31a07eb981b4",
   "metadata": {
    "tags": []
   },
   "outputs": [
    {
     "data": {
      "text/plain": [
       "array(['Working', 'State servant', 'Commercial associate', 'Pensioner',\n",
       "       'Unemployed', 'Student', 'Businessman', 'Maternity leave'],\n",
       "      dtype=object)"
      ]
     },
     "execution_count": 84,
     "metadata": {},
     "output_type": "execute_result"
    }
   ],
   "source": [
    "object_features['NAME_INCOME_TYPE'].unique()"
   ]
  },
  {
   "cell_type": "code",
   "execution_count": 85,
   "id": "57cfa9d8-a9a1-483c-8ff2-6184098ebafd",
   "metadata": {},
   "outputs": [],
   "source": [
    "object_features['NAME_INCOME_TYPE'] = weight_of_evidence_encode(\n",
    "    object_features, 'NAME_INCOME_TYPE', 'TARGET'\n",
    ")"
   ]
  },
  {
   "cell_type": "markdown",
   "id": "9a56cd5a-f880-4d26-8a67-04bcab85f356",
   "metadata": {
    "tags": []
   },
   "source": [
    "#### Education"
   ]
  },
  {
   "cell_type": "code",
   "execution_count": 86,
   "id": "c16e5748-1ac8-4760-b66d-f3e4bdf8c6ba",
   "metadata": {},
   "outputs": [
    {
     "data": {
      "text/plain": [
       "array(['Secondary / secondary special', 'Higher education',\n",
       "       'Incomplete higher', 'Lower secondary', 'Academic degree'],\n",
       "      dtype=object)"
      ]
     },
     "execution_count": 86,
     "metadata": {},
     "output_type": "execute_result"
    }
   ],
   "source": [
    "object_features['NAME_EDUCATION_TYPE'].unique()"
   ]
  },
  {
   "cell_type": "code",
   "execution_count": 87,
   "id": "5d509b1c-4785-4d10-b065-46a2631925fc",
   "metadata": {},
   "outputs": [],
   "source": [
    "# Encode the education type feature by frequency. \n",
    "# Thesis is that model will pick up on infrequent education levels\n",
    "# in combination with values of the other features to determine target. \n",
    "encoder = LabelEncoder()\n",
    "encoder.fit(object_features['NAME_EDUCATION_TYPE'])\n",
    "object_features['NAME_EDUCATION_TYPE'] = encoder.transform(\n",
    "    object_features['NAME_EDUCATION_TYPE'])  \n"
   ]
  },
  {
   "cell_type": "markdown",
   "id": "f5f7d4c0-2106-4a59-aefb-b07c4efa3cbb",
   "metadata": {
    "tags": []
   },
   "source": [
    "#### Fam Status"
   ]
  },
  {
   "cell_type": "code",
   "execution_count": 88,
   "id": "478f9f45-9fee-497a-b57b-992c79d0c732",
   "metadata": {},
   "outputs": [
    {
     "data": {
      "text/plain": [
       "array(['Single / not married', 'Married', 'Civil marriage', 'Widow',\n",
       "       'Separated', 'Unknown'], dtype=object)"
      ]
     },
     "execution_count": 88,
     "metadata": {},
     "output_type": "execute_result"
    }
   ],
   "source": [
    "object_features['NAME_FAMILY_STATUS'].unique()"
   ]
  },
  {
   "cell_type": "code",
   "execution_count": 89,
   "id": "34ee0d4b-f5c7-4760-85c9-292e3b0284cf",
   "metadata": {},
   "outputs": [
    {
     "data": {
      "text/plain": [
       "<AxesSubplot: xlabel='NAME_FAMILY_STATUS', ylabel='TARGET'>"
      ]
     },
     "execution_count": 89,
     "metadata": {},
     "output_type": "execute_result"
    },
    {
     "data": {
      "image/png": "[encoded data removed]",
      "text/plain": [
       "<Figure size 640x480 with 1 Axes>"
      ]
     },
     "metadata": {},
     "output_type": "display_data"
    }
   ],
   "source": [
    "sns.barplot(x='NAME_FAMILY_STATUS', y='TARGET', data=train)\n"
   ]
  },
  {
   "cell_type": "code",
   "execution_count": 90,
   "id": "e3d8f21f-99aa-43fb-9a21-badd4e3af028",
   "metadata": {},
   "outputs": [],
   "source": [
    "object_features['NAME_FAMILY_STATUS'] = weight_of_evidence_encode(\n",
    "    object_features, 'NAME_FAMILY_STATUS', 'TARGET'\n",
    ")\n",
    "\n"
   ]
  },
  {
   "cell_type": "markdown",
   "id": "a7af2e28-653d-43a4-a6e4-55292ad604f0",
   "metadata": {
    "tags": []
   },
   "source": [
    "#### review/scaling"
   ]
  },
  {
   "cell_type": "code",
   "execution_count": 91,
   "id": "11b8be3b-3d0d-46ca-864f-4e5737d70e7c",
   "metadata": {},
   "outputs": [],
   "source": [
    "# change 'NAME_TYPE_SUITE_BINNED' from dtype category to int\n",
    "object_features['NAME_TYPE_SUITE_BINNED'] = object_features['NAME_TYPE_SUITE_BINNED'].astype('int64')\n",
    "\n"
   ]
  },
  {
   "cell_type": "code",
   "execution_count": 92,
   "id": "a31cfe59-ac50-45ba-80f9-3482900b25c7",
   "metadata": {},
   "outputs": [],
   "source": [
    "# Scale values that are not ordinal, binary, or integer\n",
    "scaler = StandardScaler()\n",
    "columns_to_scale = ['NAME_INCOME_TYPE', 'NAME_FAMILY_STATUS',\n",
    "                    'NAME_HOUSING_TYPE', 'OCCUPATION_TYPE', \n",
    "                    'ORGANIZATION_TYPE']\n",
    "object_features[columns_to_scale] = scaler.fit_transform(object_features[columns_to_scale])\n"
   ]
  },
  {
   "cell_type": "markdown",
   "id": "05e19974-ddbe-4852-bb1a-884668ff016a",
   "metadata": {
    "tags": []
   },
   "source": [
    "### **INT FEATURES**"
   ]
  },
  {
   "cell_type": "code",
   "execution_count": 93,
   "id": "8f4e3713-211f-401d-bd1f-b9431abbf3af",
   "metadata": {
    "tags": []
   },
   "outputs": [],
   "source": [
    "drops = ['SK_ID_CURR']\n",
    "int_features = int_features.drop(columns=drops)"
   ]
  },
  {
   "cell_type": "markdown",
   "id": "920d3df8-e7ba-41f9-b165-42260ec90322",
   "metadata": {
    "tags": []
   },
   "source": [
    "#### General Approach"
   ]
  },
  {
   "cell_type": "markdown",
   "id": "87e6164a-536b-4316-8eea-b9f2c04ea1c4",
   "metadata": {},
   "source": [
    "This data will be used for much more than selection, removal, or encoding. Numerical features can be transformed and operated on to create more intuitive features for the question we are trying to answer. For example, we will most likely place the sum of all 'FLAG_DOCUMENT' columns into its own column 'MISSING_DOCS' for feature reduction."
   ]
  },
  {
   "cell_type": "markdown",
   "id": "df6b4f6d-69d1-4f98-bdf1-7d7e6576e159",
   "metadata": {
    "tags": []
   },
   "source": [
    "#### **Document Columns**\n",
    "This section will take all 'FLAG_DOCUMENT' columns, sum their total value to create a column of total missing documents in each loan application, and then drop all individual document columns. This is an effort to prevent the classifier from overfitting to the training data - most of these documents are turned in by most people, making the use of each column individually seem redundant."
   ]
  },
  {
   "cell_type": "markdown",
   "id": "d0557349-7e62-43be-b07a-76398983a7c7",
   "metadata": {},
   "source": [
    "A simple yet logical implementation of..."
   ]
  },
  {
   "cell_type": "code",
   "execution_count": 94,
   "id": "51706e20-95cd-43b3-80fd-69dab69cf421",
   "metadata": {},
   "outputs": [],
   "source": [
    "doc_columns = [\n",
    "    \"FLAG_DOCUMENT_2\",\n",
    "    \"FLAG_DOCUMENT_3\",\n",
    "    \"FLAG_DOCUMENT_4\",\n",
    "    \"FLAG_DOCUMENT_5\",\n",
    "    \"FLAG_DOCUMENT_6\",\n",
    "    \"FLAG_DOCUMENT_7\",\n",
    "    \"FLAG_DOCUMENT_8\",\n",
    "    \"FLAG_DOCUMENT_9\",\n",
    "    \"FLAG_DOCUMENT_10\",\n",
    "    \"FLAG_DOCUMENT_11\",\n",
    "    \"FLAG_DOCUMENT_12\",\n",
    "    \"FLAG_DOCUMENT_13\",\n",
    "    \"FLAG_DOCUMENT_14\",\n",
    "    \"FLAG_DOCUMENT_15\",\n",
    "    \"FLAG_DOCUMENT_16\",\n",
    "    \"FLAG_DOCUMENT_17\",\n",
    "    \"FLAG_DOCUMENT_18\",\n",
    "    \"FLAG_DOCUMENT_19\",\n",
    "    \"FLAG_DOCUMENT_20\",\n",
    "    \"FLAG_DOCUMENT_21\",\n",
    "]"
   ]
  },
  {
   "cell_type": "code",
   "execution_count": 95,
   "id": "ca6d831b-ea08-4915-9cf6-e7f0620c890f",
   "metadata": {},
   "outputs": [
    {
     "data": {
      "image/png": "[encoded data removed]",
      "text/plain": [
       "<Figure size 1000x800 with 1 Axes>"
      ]
     },
     "metadata": {},
     "output_type": "display_data"
    }
   ],
   "source": [
    "\n",
    "doc_defaults = []\n",
    "for col in doc_columns:\n",
    "    doc_defaults.append(int_features.groupby(col)['TARGET'].mean()[1])\n",
    "\n",
    "fig, ax = plt.subplots(figsize=(10,8))\n",
    "y_pos = range(len(doc_columns))\n",
    "ax.barh(y_pos, doc_defaults, align='center')\n",
    "ax.set_yticks(y_pos)\n",
    "ax.set_yticklabels(doc_columns)\n",
    "ax.invert_yaxis()\n",
    "ax.set_xlabel('Default Rate')\n",
    "ax.set_title('Default Rate by Flag Document Column')\n",
    "plt.show()\n"
   ]
  },
  {
   "cell_type": "code",
   "execution_count": 96,
   "id": "87da4d2f-2f5c-4d3f-9584-3190c5db886d",
   "metadata": {},
   "outputs": [],
   "source": [
    "important_doc_cols = ['FLAG_DOCUMENT_2', 'FLAG_DOCUMENT_3'\n",
    "                      'FLAG_DOCUMENT_21']"
   ]
  },
  {
   "cell_type": "code",
   "execution_count": 97,
   "id": "1eb39349-81b6-4c30-96c9-a0d459fd35b9",
   "metadata": {},
   "outputs": [],
   "source": [
    "# Drop all document columns that are unimportant\n",
    "doc_columns = [\n",
    "    \"FLAG_DOCUMENT_4\",\n",
    "    \"FLAG_DOCUMENT_5\",\n",
    "    \"FLAG_DOCUMENT_6\",\n",
    "    \"FLAG_DOCUMENT_7\",\n",
    "    \"FLAG_DOCUMENT_8\",\n",
    "    \"FLAG_DOCUMENT_9\",\n",
    "    \"FLAG_DOCUMENT_10\",\n",
    "    \"FLAG_DOCUMENT_11\",\n",
    "    \"FLAG_DOCUMENT_12\",\n",
    "    \"FLAG_DOCUMENT_13\",\n",
    "    \"FLAG_DOCUMENT_14\",\n",
    "    \"FLAG_DOCUMENT_15\",\n",
    "    \"FLAG_DOCUMENT_16\",\n",
    "    \"FLAG_DOCUMENT_17\",\n",
    "    \"FLAG_DOCUMENT_18\",\n",
    "    \"FLAG_DOCUMENT_19\",\n",
    "    \"FLAG_DOCUMENT_20\",\n",
    "]\n",
    "\n",
    "int_features = int_features.drop(doc_columns, axis=1)"
   ]
  },
  {
   "cell_type": "markdown",
   "id": "0529bc9f-06e9-4c64-bf3e-7eb3937268a7",
   "metadata": {
    "tags": []
   },
   "source": [
    "#### Children"
   ]
  },
  {
   "cell_type": "code",
   "execution_count": 98,
   "id": "0b3be073-4b71-4d02-80c2-2663a499e37d",
   "metadata": {},
   "outputs": [
    {
     "data": {
      "image/png": "[encoded data removed]",
      "text/plain": [
       "<Figure size 800x600 with 1 Axes>"
      ]
     },
     "metadata": {},
     "output_type": "display_data"
    }
   ],
   "source": [
    "import matplotlib.pyplot as plt\n",
    "\n",
    "# Calculate default rate for each CNT_CHILDREN value\n",
    "default_rates = []\n",
    "for i in range(int_features['CNT_CHILDREN'].max() + 1):\n",
    "    rate = int_features[int_features['CNT_CHILDREN'] == i]['TARGET'].mean()\n",
    "    default_rates.append(rate)\n",
    "\n",
    "# Create horizontal bar chart\n",
    "fig, ax = plt.subplots(figsize=(8, 6))\n",
    "ax.barh(range(len(default_rates)), default_rates, color='blue')\n",
    "ax.set_yticks(range(len(default_rates)))\n",
    "ax.set_yticklabels(range(int_features['CNT_CHILDREN'].max() + 1))\n",
    "ax.invert_yaxis()\n",
    "ax.set_xlabel('Default Rate')\n",
    "ax.set_ylabel('Number of Children')\n",
    "ax.set_title('Default Rate by Number of Children')\n",
    "plt.show()\n"
   ]
  },
  {
   "cell_type": "markdown",
   "id": "671fa745-253e-4d62-b191-7c68f3552a7b",
   "metadata": {
    "tags": []
   },
   "source": [
    "#### Time of day"
   ]
  },
  {
   "cell_type": "markdown",
   "id": "439da0e8-8253-4b3f-8559-2abf802d6301",
   "metadata": {},
   "source": [
    "The 'HOUR_APPR_PROCESS_START' feature describes when the borrower submitted their application. The feature will be binned into morning, day, and night to simplify and guide the model."
   ]
  },
  {
   "cell_type": "code",
   "execution_count": 99,
   "id": "d38f0945-d0c3-4bbf-b3a5-aa654dc9b44c",
   "metadata": {},
   "outputs": [],
   "source": [
    "int_features['HOUR_APPR_PROCESS_START'] = pd.cut(\n",
    "    int_features['HOUR_APPR_PROCESS_START'], \n",
    "    bins=[0, 8, 16, 24],\n",
    "    labels=['morning', 'day', 'night']\n",
    ").astype(str)"
   ]
  },
  {
   "cell_type": "code",
   "execution_count": 100,
   "id": "1368c316-f353-45f5-a780-a7d40d2d456a",
   "metadata": {},
   "outputs": [],
   "source": [
    "int_features = one_hot_encode(int_features, 'HOUR_APPR_PROCESS_START')"
   ]
  },
  {
   "cell_type": "code",
   "execution_count": 101,
   "id": "cfdd25b2-143b-4cf3-9c4b-a1796782d527",
   "metadata": {},
   "outputs": [],
   "source": [
    "# drop everything except for morning\n",
    "drops = [\n",
    "    'HOUR_APPR_PROCESS_START_nan',\n",
    "    'HOUR_APPR_PROCESS_START_night',\n",
    "    'HOUR_APPR_PROCESS_START_day',\n",
    "]\n",
    "\n",
    "int_features = int_features.drop(drops, axis=1)"
   ]
  },
  {
   "cell_type": "markdown",
   "id": "0809013e-4e71-4149-8876-cb456b272762",
   "metadata": {
    "tags": []
   },
   "source": [
    "#### Living/Working Region"
   ]
  },
  {
   "cell_type": "code",
   "execution_count": 102,
   "id": "18ae8e74-ead6-4f01-bb49-a6d7fd00ee35",
   "metadata": {},
   "outputs": [],
   "source": [
    "int_features['REGIONS_NOT_MATCHED'] = (int_features['REG_REGION_NOT_LIVE_REGION'] + \n",
    "                                       int_features['REG_REGION_NOT_WORK_REGION'] + \n",
    "                                       int_features['LIVE_REGION_NOT_WORK_REGION'])\n",
    "int_features = int_features.drop(columns=['REG_REGION_NOT_LIVE_REGION', \n",
    "                                           'REG_REGION_NOT_WORK_REGION', \n",
    "                                           'LIVE_REGION_NOT_WORK_REGION'])\n"
   ]
  },
  {
   "cell_type": "code",
   "execution_count": 103,
   "id": "128cde78-0271-4f8a-b823-3112c1a207c0",
   "metadata": {},
   "outputs": [],
   "source": [
    "int_features['CITIES_NOT_MATCHED'] = int_features['REG_CITY_NOT_LIVE_CITY'] + int_features['REG_CITY_NOT_WORK_CITY']\n",
    "int_features = int_features.drop(columns=['REG_CITY_NOT_LIVE_CITY', 'REG_CITY_NOT_WORK_CITY'])\n"
   ]
  },
  {
   "cell_type": "code",
   "execution_count": 104,
   "id": "e2e79782-ed4b-466d-b238-a2cc6ba3504c",
   "metadata": {},
   "outputs": [
    {
     "data": {
      "text/plain": [
       "array([2, 1, 3])"
      ]
     },
     "execution_count": 104,
     "metadata": {},
     "output_type": "execute_result"
    }
   ],
   "source": [
    "int_features['REGION_RATING_CLIENT'].unique()"
   ]
  },
  {
   "cell_type": "code",
   "execution_count": 105,
   "id": "9f547b75-d6c5-4508-a90e-a12bda3d7991",
   "metadata": {},
   "outputs": [],
   "source": [
    "\n",
    "int_features = one_hot_encode(int_features, 'REGION_RATING_CLIENT')\n"
   ]
  },
  {
   "cell_type": "code",
   "execution_count": 106,
   "id": "e92e35e9-35d6-4f41-b2ee-185ff31389fb",
   "metadata": {},
   "outputs": [],
   "source": [
    "int_features = one_hot_encode(int_features, 'REGION_RATING_CLIENT_W_CITY')"
   ]
  },
  {
   "cell_type": "code",
   "execution_count": 107,
   "id": "3adcdc15-9b13-44f3-bd1d-6f37de4c3842",
   "metadata": {},
   "outputs": [],
   "source": [
    "# drop ones and twos from ratings \n",
    "drops = [\n",
    "    'REGION_RATING_CLIENT_1',\n",
    "    'REGION_RATING_CLIENT_W_CITY_1',\n",
    "    'REGION_RATING_CLIENT_2',\n",
    "    'REGION_RATING_CLIENT_W_CITY_2'\n",
    "\n",
    "]\n",
    "\n",
    "int_features = int_features.drop(drops, axis=1)"
   ]
  },
  {
   "cell_type": "code",
   "execution_count": 108,
   "id": "520ed9c2-44b6-4650-9618-b1758003b975",
   "metadata": {},
   "outputs": [
    {
     "data": {
      "text/plain": [
       "Index(['TARGET', 'CNT_CHILDREN', 'DAYS_BIRTH', 'DAYS_EMPLOYED',\n",
       "       'DAYS_ID_PUBLISH', 'FLAG_MOBIL', 'FLAG_EMP_PHONE', 'FLAG_WORK_PHONE',\n",
       "       'FLAG_CONT_MOBILE', 'FLAG_PHONE', 'FLAG_EMAIL',\n",
       "       'LIVE_CITY_NOT_WORK_CITY', 'FLAG_DOCUMENT_2', 'FLAG_DOCUMENT_3',\n",
       "       'FLAG_DOCUMENT_21', 'HOUR_APPR_PROCESS_START_morning',\n",
       "       'REGIONS_NOT_MATCHED', 'CITIES_NOT_MATCHED', 'REGION_RATING_CLIENT_3',\n",
       "       'REGION_RATING_CLIENT_W_CITY_3'],\n",
       "      dtype='object')"
      ]
     },
     "execution_count": 108,
     "metadata": {},
     "output_type": "execute_result"
    }
   ],
   "source": [
    "int_features.columns"
   ]
  },
  {
   "cell_type": "markdown",
   "id": "fd5d8d20-052f-48f3-b9ab-7f2c249b9aa7",
   "metadata": {
    "tags": []
   },
   "source": [
    "#### Birthday"
   ]
  },
  {
   "cell_type": "code",
   "execution_count": 109,
   "id": "2918fcb9-807e-4aed-a5fd-ca8d08591b04",
   "metadata": {},
   "outputs": [
    {
     "data": {
      "image/png": "[encoded data removed]",
      "text/plain": [
       "<Figure size 1000x800 with 1 Axes>"
      ]
     },
     "metadata": {},
     "output_type": "display_data"
    }
   ],
   "source": [
    "# Convert 'DAYS_BIRTH' to years\n",
    "int_features['AGE'] = round(-int_features['DAYS_BIRTH'] / 365)\n",
    "\n",
    "# Plot histogram\n",
    "fig, ax = plt.subplots(figsize=(10, 8))\n",
    "sns.histplot(\n",
    "    data=int_features[int_features['TARGET'] == 1], x='AGE', color='red', ax=ax,\n",
    "    binwidth=2, stat='count', edgecolor='black', linewidth=1.0\n",
    ")\n",
    "sns.histplot(\n",
    "    data=int_features[int_features['TARGET'] == 0], x='AGE', color='black', ax=ax,\n",
    "    binwidth=2, stat='count', edgecolor='black', linewidth=1.0\n",
    ")\n",
    "ax.set_xlabel('Age')\n",
    "ax.set_ylabel('Count')\n",
    "ax.legend(['Default', 'Non-Default'])\n",
    "plt.title('Default Counts by Age')\n",
    "plt.show()\n"
   ]
  },
  {
   "cell_type": "code",
   "execution_count": 110,
   "id": "2f476d20-053d-4cb9-8994-cefc1dc2eca2",
   "metadata": {},
   "outputs": [],
   "source": [
    "int_features['AGE_UNDER_40'] = int_features['DAYS_BIRTH'].apply(lambda x: 1 if x < -40*365 else 0)"
   ]
  },
  {
   "cell_type": "markdown",
   "id": "85873ab6-3959-4d96-b7c2-6b247837cdc7",
   "metadata": {},
   "source": [
    "Despite creating the 'AGE_UNDER_40' column, we will keep 'DAYS_BIRTH' due to its inherent importance to the model and possibility of contribution to interaction terms or ratios. "
   ]
  },
  {
   "cell_type": "markdown",
   "id": "78dc5a2b-8028-429f-91c3-2b1612a9dd33",
   "metadata": {},
   "source": [
    "#### All Flag Columns"
   ]
  },
  {
   "cell_type": "code",
   "execution_count": 111,
   "id": "313f8b7e-8a6f-4300-b46a-d5d6617fae95",
   "metadata": {},
   "outputs": [
    {
     "data": {
      "image/png": "[encoded data removed]",
      "text/plain": [
       "<Figure size 1000x800 with 1 Axes>"
      ]
     },
     "metadata": {},
     "output_type": "display_data"
    }
   ],
   "source": [
    "# drop flag columns from obj features and add it to int features\n",
    "int_features['FLAG_OWN_CAR'] = object_features['FLAG_OWN_CAR']\n",
    "int_features['FLAG_OWN_REALTY'] = object_features['FLAG_OWN_REALTY']\n",
    "\n",
    "drops = ['FLAG_OWN_CAR', 'FLAG_OWN_REALTY']\n",
    "object_features = object_features.drop(drops, axis=1)\n",
    "\n",
    "\n",
    "\n",
    "flag_cols = int_features.columns[int_features.columns.str.startswith('FLAG_')]\n",
    "\n",
    "flag_defaults = []\n",
    "for col in flag_cols:\n",
    "    flag_defaults.append(int_features.groupby(col)['TARGET'].mean()[1])\n",
    "\n",
    "fig, ax = plt.subplots(figsize=(10,8))\n",
    "y_pos = range(len(flag_cols))\n",
    "ax.barh(y_pos, flag_defaults, align='center')\n",
    "ax.set_yticks(y_pos)\n",
    "ax.set_yticklabels(flag_cols)\n",
    "ax.invert_yaxis()\n",
    "ax.set_xlabel('Default Rate')\n",
    "ax.set_title('Default Rate by Flag Document Column')\n",
    "plt.show()\n"
   ]
  },
  {
   "cell_type": "code",
   "execution_count": 112,
   "id": "8ff90976-93bc-4297-b384-8b2baf538878",
   "metadata": {},
   "outputs": [],
   "source": [
    "\n",
    "int_features['COMMUNICATIONS_FLAGS'] = int_features[\n",
    "    ['FLAG_MOBIL', 'FLAG_EMP_PHONE', 'FLAG_WORK_PHONE',\n",
    "     'FLAG_CONT_MOBILE', 'FLAG_PHONE', 'FLAG_EMAIL']].sum(axis=1)\n",
    "\n",
    "int_features['FLAG_ASSETS'] = int_features[\n",
    "    ['FLAG_OWN_CAR', 'FLAG_OWN_REALTY']].sum(axis=1)\n",
    "\n",
    "int_features = int_features.drop(\n",
    "    ['FLAG_MOBIL', 'FLAG_EMP_PHONE', \n",
    "    'FLAG_WORK_PHONE', 'FLAG_CONT_MOBILE',\n",
    "    'FLAG_PHONE', 'FLAG_EMAIL', \n",
    "    'FLAG_OWN_CAR', 'FLAG_OWN_REALTY'], axis=1)\n"
   ]
  },
  {
   "cell_type": "markdown",
   "id": "8aa072fe-12eb-4125-bd58-dac9fc306cbd",
   "metadata": {
    "tags": []
   },
   "source": [
    "### **FLOAT FEATURES**"
   ]
  },
  {
   "cell_type": "markdown",
   "id": "7243ba5d-8117-4731-95ab-8c760ef1cb51",
   "metadata": {},
   "source": [
    "We will begin by identifying possible imputation strategies for columns with a large number of missing values, or just drop them in general. This is an important first step because the model's predictive power can be disrupted by columns that are not filled with accurate measures of central tendency. "
   ]
  },
  {
   "cell_type": "markdown",
   "id": "81dce02b-2ead-42f0-bd91-c05e9226b251",
   "metadata": {
    "tags": []
   },
   "source": [
    "#### Fill missing values"
   ]
  },
  {
   "cell_type": "markdown",
   "id": "1d590a6f-2245-4a57-b2b6-eb2b1ad31291",
   "metadata": {
    "tags": []
   },
   "source": [
    "##### **'AMT_ANNUITY'**"
   ]
  },
  {
   "cell_type": "code",
   "execution_count": 113,
   "id": "2dc2ea0e-92c4-468a-b8ea-408d4bddcbc3",
   "metadata": {},
   "outputs": [],
   "source": [
    "\n",
    "# drop rows with empty annuity value\n",
    "# very few and misleading data\n",
    "\n",
    "float_features.dropna(subset=['AMT_ANNUITY'], inplace=True)"
   ]
  },
  {
   "cell_type": "markdown",
   "id": "540c9af4-1698-4697-9bad-bde7b22d01ed",
   "metadata": {
    "tags": []
   },
   "source": [
    "##### **'AMT_GOODS_PRICE'**"
   ]
  },
  {
   "cell_type": "code",
   "execution_count": 114,
   "id": "f153ddf0-228d-40c6-8267-8aef453370ec",
   "metadata": {},
   "outputs": [],
   "source": [
    "# same with goods price\n",
    "# we assume that in a loan application, $ amt for annuity and goods\n",
    "# will be required\n",
    "\n",
    "float_features.dropna(subset=['AMT_GOODS_PRICE'], inplace=True)\n"
   ]
  },
  {
   "cell_type": "markdown",
   "id": "df5fe492-0503-4028-966e-72b13e86380b",
   "metadata": {
    "tags": []
   },
   "source": [
    "##### **Columns to fill w/ measures of central tendency**"
   ]
  },
  {
   "cell_type": "code",
   "execution_count": 115,
   "id": "d8b226dd-1a65-479c-a717-776063d1de5b",
   "metadata": {},
   "outputs": [],
   "source": [
    "\n",
    "# define float columns to be imputed\n",
    "fill_with_mean = ['OBS_30_CNT_SOCIAL_CIRCLE', 'DEF_30_CNT_SOCIAL_CIRCLE',\n",
    "                  'OBS_60_CNT_SOCIAL_CIRCLE', 'DEF_60_CNT_SOCIAL_CIRCLE']\n",
    "fill_with_median = ['CNT_FAM_MEMBERS', \n",
    "                    'DAYS_LAST_PHONE_CHANGE']\n",
    "fill_with_mode = ['AMT_REQ_CREDIT_BUREAU_HOUR', 'AMT_REQ_CREDIT_BUREAU_DAY', \n",
    "                  'AMT_REQ_CREDIT_BUREAU_WEEK', 'AMT_REQ_CREDIT_BUREAU_MON', \n",
    "                  'AMT_REQ_CREDIT_BUREAU_QRT', 'AMT_REQ_CREDIT_BUREAU_YEAR']\n",
    "# instantiate imputers\n",
    "mean_imputer = SimpleImputer(strategy='mean')\n",
    "median_imputer = SimpleImputer(strategy='median')\n",
    "mode_imputer = SimpleImputer(strategy='most_frequent')\n",
    "\n",
    "# impute columns with missing values \n",
    "float_features[fill_with_mean] = mean_imputer.fit_transform(float_features[fill_with_mean])\n",
    "float_features[fill_with_median] = median_imputer.fit_transform(float_features[fill_with_median])\n",
    "float_features[fill_with_mode] = mode_imputer.fit_transform(float_features[fill_with_mode])\n",
    "\n"
   ]
  },
  {
   "cell_type": "markdown",
   "id": "d3740ebf-740b-4f28-9822-3d1161d37a9b",
   "metadata": {
    "tags": []
   },
   "source": [
    "##### **EXT_SOURCE Columns**"
   ]
  },
  {
   "cell_type": "code",
   "execution_count": 116,
   "id": "1ee8a2aa-1a5e-4423-9e0f-50192b6e11d6",
   "metadata": {},
   "outputs": [],
   "source": [
    "# loop over the source columns and impute missing values with the mean of the other\n",
    "# two source columns in the same application\n",
    "\n",
    "ext_source_cols = ['EXT_SOURCE_1', 'EXT_SOURCE_2', 'EXT_SOURCE_3']\n",
    "\n",
    "for col in ext_source_cols:\n",
    "    missing_mask = float_features[col].isnull()\n",
    "    temp_df = float_features.loc[missing_mask, ['EXT_SOURCE_1', 'EXT_SOURCE_2', 'EXT_SOURCE_3']]\n",
    "    mean_values = temp_df.mean(axis=1)\n",
    "    float_features.loc[missing_mask, col] = mean_values\n",
    "\n",
    "# for columns that have zero external source scores, we will fill them with the mean of the column\n",
    "float_features[ext_source_cols] = mean_imputer.fit_transform(float_features[ext_source_cols])\n",
    "\n",
    "\n",
    "\n"
   ]
  },
  {
   "cell_type": "markdown",
   "id": "c303ddf5-df04-41fe-9f7f-ad0a50c60da6",
   "metadata": {
    "tags": []
   },
   "source": [
    "##### **Drop columns with too many missing vals**"
   ]
  },
  {
   "cell_type": "code",
   "execution_count": 117,
   "id": "7c57dc9f-9c44-4384-9cd4-84210431bb7e",
   "metadata": {},
   "outputs": [],
   "source": [
    "\n",
    "# define columns to drop\n",
    "drop = ['OWN_CAR_AGE', 'APARTMENTS_AVG', 'BASEMENTAREA_AVG', \n",
    "        'YEARS_BEGINEXPLUATATION_AVG', 'YEARS_BUILD_AVG', \n",
    "        'COMMONAREA_AVG', 'ELEVATORS_AVG', 'ENTRANCES_AVG', \n",
    "        'FLOORSMAX_AVG', 'FLOORSMIN_AVG', 'LANDAREA_AVG', \n",
    "        'LIVINGAPARTMENTS_AVG', 'LIVINGAREA_AVG', \n",
    "        'NONLIVINGAPARTMENTS_AVG', 'NONLIVINGAREA_AVG', \n",
    "        'APARTMENTS_MODE', 'BASEMENTAREA_MODE', \n",
    "        'YEARS_BEGINEXPLUATATION_MODE', 'YEARS_BUILD_MODE', \n",
    "        'COMMONAREA_MODE', 'ELEVATORS_MODE', 'ENTRANCES_MODE', \n",
    "        'FLOORSMAX_MODE', 'FLOORSMIN_MODE', 'LANDAREA_MODE', \n",
    "        'LIVINGAPARTMENTS_MODE', 'LIVINGAREA_MODE', \n",
    "        'NONLIVINGAPARTMENTS_MODE', 'NONLIVINGAREA_MODE', \n",
    "        'APARTMENTS_MEDI', 'BASEMENTAREA_MEDI', \n",
    "        'YEARS_BEGINEXPLUATATION_MEDI', 'YEARS_BUILD_MEDI', \n",
    "        'COMMONAREA_MEDI', 'ELEVATORS_MEDI', 'ENTRANCES_MEDI', \n",
    "        'FLOORSMAX_MEDI', 'FLOORSMIN_MEDI', 'LANDAREA_MEDI', \n",
    "        'LIVINGAPARTMENTS_MEDI', 'LIVINGAREA_MEDI', \n",
    "        'NONLIVINGAPARTMENTS_MEDI', 'NONLIVINGAREA_MEDI', \n",
    "        'TOTALAREA_MODE']\n",
    "\n",
    "# drop unimportant columns\n",
    "float_features = float_features.drop(drop, axis=1)\n"
   ]
  },
  {
   "cell_type": "code",
   "execution_count": 118,
   "id": "2335d84a-4150-475e-9a3d-14d6ab1b6b95",
   "metadata": {},
   "outputs": [],
   "source": [
    "train = pd.concat([float_features, int_features, object_features], axis=1)"
   ]
  },
  {
   "cell_type": "code",
   "execution_count": 119,
   "id": "11766efd-c594-4c7e-b648-3db42efa792e",
   "metadata": {
    "tags": []
   },
   "outputs": [],
   "source": [
    "# create new aggregated features out of SOCIAL_CIRCLE_CNT\n",
    "train['SOCIAL_CIRCLE_CNT'] = train[['OBS_30_CNT_SOCIAL_CIRCLE', 'DEF_30_CNT_SOCIAL_CIRCLE', 'OBS_60_CNT_SOCIAL_CIRCLE', 'DEF_60_CNT_SOCIAL_CIRCLE']].sum(axis=1)\n",
    "train.drop(['OBS_30_CNT_SOCIAL_CIRCLE', 'DEF_30_CNT_SOCIAL_CIRCLE', 'OBS_60_CNT_SOCIAL_CIRCLE', 'DEF_60_CNT_SOCIAL_CIRCLE'], axis=1, inplace=True)\n",
    "\n",
    "\n",
    "# sum of inquiries\n",
    "train['AMT_REQ_CREDIT_BUREAU_TOTAL'] = train['AMT_REQ_CREDIT_BUREAU_HOUR'].fillna(0) + train['AMT_REQ_CREDIT_BUREAU_DAY'].fillna(0) + train['AMT_REQ_CREDIT_BUREAU_WEEK'].fillna(0) + train['AMT_REQ_CREDIT_BUREAU_MON'].fillna(0) + train['AMT_REQ_CREDIT_BUREAU_QRT'].fillna(0) + train['AMT_REQ_CREDIT_BUREAU_YEAR'].fillna(0)\n",
    "\n",
    "train = train.drop(['AMT_REQ_CREDIT_BUREAU_HOUR', 'AMT_REQ_CREDIT_BUREAU_DAY',\n",
    "                    'AMT_REQ_CREDIT_BUREAU_WEEK', 'AMT_REQ_CREDIT_BUREAU_MON',\n",
    "                    'AMT_REQ_CREDIT_BUREAU_QRT', 'AMT_REQ_CREDIT_BUREAU_YEAR'], axis=1)\n",
    "\n",
    "train_preprocessed = train\n"
   ]
  },
  {
   "cell_type": "markdown",
   "id": "0570e687-9c05-4fbc-b780-b73c902f0862",
   "metadata": {
    "tags": []
   },
   "source": [
    "## **PREVIOUS_APPLICATION.CSV**"
   ]
  },
  {
   "cell_type": "code",
   "execution_count": 120,
   "id": "dd8d788a-bfd5-4cf7-9509-5857f59b3340",
   "metadata": {},
   "outputs": [],
   "source": [
    "prev = pd.read_csv('previous_application.csv')"
   ]
  },
  {
   "cell_type": "code",
   "execution_count": 123,
   "id": "6de41e78-0530-4951-b06e-180c2286cbb3",
   "metadata": {},
   "outputs": [],
   "source": [
    "\n",
    "prev['INTEREST_RATE'] = (prev['AMT_ANNUITY'] * prev['CNT_PAYMENT'] - prev['AMT_CREDIT']) / prev['AMT_CREDIT']\n",
    "prev['CREDIT_PAYMENTS'] = prev['AMT_CREDIT'] / prev['CNT_PAYMENT']\n",
    "prev['CREDIT_COST'] = prev['AMT_CREDIT'] + prev['AMT_GOODS_PRICE']\n",
    "\n",
    "# dictionary of aggregations to be performed\n",
    "aggregations = {\n",
    "    'AMT_ANNUITY': ['mean', 'max', 'min'],\n",
    "    'AMT_APPLICATION': ['mean', 'max', 'min'],\n",
    "    'AMT_CREDIT': ['mean', 'max', 'min'],\n",
    "    'AMT_DOWN_PAYMENT': ['mean', 'max', 'min'],\n",
    "    'AMT_GOODS_PRICE': ['mean', 'max', 'min'],\n",
    "    'DAYS_DECISION': ['mean', 'max', 'min'],\n",
    "    'CNT_PAYMENT': ['mean'],\n",
    "    'INTEREST_RATE': ['max', 'min'],\n",
    "    'CREDIT_PAYMENTS': ['mean', 'max', 'min'],\n",
    "    'CREDIT_COST': ['mean', 'max', 'min']\n",
    "}\n"
   ]
  },
  {
   "cell_type": "code",
   "execution_count": null,
   "id": "de7b0e81-bded-4102-be56-56045de741e5",
   "metadata": {},
   "outputs": [],
   "source": []
  },
  {
   "cell_type": "code",
   "execution_count": 124,
   "id": "6211db8e-167a-4684-aa4a-b786b5d9ac43",
   "metadata": {},
   "outputs": [],
   "source": [
    "# apply all aggregations to the 'prev' dataset\n",
    "prev_agg = prev.groupby('SK_ID_CURR').agg(aggregations)\n",
    "\n",
    "# flatten column names\n",
    "prev_agg.columns = ['_'.join(col).strip() for col in prev_agg.columns.values]\n",
    "\n",
    "# Impute missing values with column means\n",
    "prev_agg.fillna(prev_agg.mean(), inplace=True)\n"
   ]
  },
  {
   "cell_type": "code",
   "execution_count": 125,
   "id": "f5e60e56-97a1-43be-b7ee-fdb615e8493e",
   "metadata": {},
   "outputs": [],
   "source": [
    "# merge aggregated 'prev' data with 'train'\n",
    "train_preprocessed['SK_ID_CURR'] = id_curr\n",
    "train_preprocessed['TARGET'] = target\n",
    "train_preprocessed = train.merge(prev_agg, on='SK_ID_CURR', how='left')\n"
   ]
  },
  {
   "cell_type": "markdown",
   "id": "d5ffdf7a-22b1-44b3-91d6-b00c341e5a87",
   "metadata": {},
   "source": [
    "Dropping the rows with missing values in the aggregation features is seemingly harmless, given that the distribution of the target variable suppresses negative outcomes in these rows. Therefore, we will drop all rows with na values at this point"
   ]
  },
  {
   "cell_type": "code",
   "execution_count": 126,
   "id": "06bc4956-82a6-40fc-8567-74201559e3a3",
   "metadata": {},
   "outputs": [
    {
     "name": "stdout",
     "output_type": "stream",
     "text": [
      "Duplicate columns detected. Removing duplicates...\n",
      "Duplicate columns removed\n"
     ]
    }
   ],
   "source": [
    "# check if dataframe has duplicate columns\n",
    "if len(train_preprocessed.columns) == len(set(train_preprocessed.columns)):\n",
    "    print(\"No duplicate columns\")\n",
    "else:\n",
    "    print(\"Duplicate columns detected. Removing duplicates...\")\n",
    "\n",
    "    # remove duplicate columns\n",
    "    train_preprocessed = train_preprocessed.loc[:, ~train_preprocessed.columns.duplicated()]\n",
    "\n",
    "    # check if duplicate columns were successfully removed\n",
    "    if len(train_preprocessed.columns) == len(set(train_preprocessed.columns)):\n",
    "        print(\"Duplicate columns removed\")\n",
    "    else:\n",
    "        print(\"Error: Duplicate columns still present\")\n"
   ]
  },
  {
   "cell_type": "markdown",
   "id": "9f761579-277e-46da-b9b3-e52391133335",
   "metadata": {
    "tags": []
   },
   "source": [
    "## **POS_CASH_BALANCE.CSV**"
   ]
  },
  {
   "cell_type": "code",
   "execution_count": 127,
   "id": "0a90a625-51dc-41d3-9c61-2ff1f344e637",
   "metadata": {},
   "outputs": [
    {
     "name": "stdout",
     "output_type": "stream",
     "text": [
      "<class 'pandas.core.frame.DataFrame'>\n",
      "RangeIndex: 10001358 entries, 0 to 10001357\n",
      "Data columns (total 8 columns):\n",
      " #   Column                 Dtype  \n",
      "---  ------                 -----  \n",
      " 0   SK_ID_PREV             int64  \n",
      " 1   SK_ID_CURR             int64  \n",
      " 2   MONTHS_BALANCE         int64  \n",
      " 3   CNT_INSTALMENT         float64\n",
      " 4   CNT_INSTALMENT_FUTURE  float64\n",
      " 5   NAME_CONTRACT_STATUS   object \n",
      " 6   SK_DPD                 int64  \n",
      " 7   SK_DPD_DEF             int64  \n",
      "dtypes: float64(2), int64(5), object(1)\n",
      "memory usage: 610.4+ MB\n"
     ]
    }
   ],
   "source": [
    "pos_cash = pd.read_csv('POS_CASH_balance.csv')\n",
    "pos_cash.info()"
   ]
  },
  {
   "cell_type": "code",
   "execution_count": 128,
   "id": "98b66358-2e88-408b-89be-67a0c4a67fc9",
   "metadata": {},
   "outputs": [],
   "source": [
    "pos_cash_agg_dict = {\n",
    "    'MONTHS_BALANCE': ['min', 'max'],\n",
    "    'CNT_INSTALMENT': ['min', 'max', 'mean'],\n",
    "    'CNT_INSTALMENT_FUTURE': ['min', 'max', 'mean'],\n",
    "    'SK_DPD': ['max', 'mean'],\n",
    "    'SK_DPD_DEF': ['max', 'mean']\n",
    "}\n"
   ]
  },
  {
   "cell_type": "code",
   "execution_count": 129,
   "id": "4e0c5357-4986-4e6f-b293-cef08be3cc08",
   "metadata": {},
   "outputs": [
    {
     "name": "stderr",
     "output_type": "stream",
     "text": [
      "/var/folders/mq/5ty7rxtj4cj47vsq_y7rgngh0000gn/T/ipykernel_84768/423158198.py:7: FutureWarning: merging between different levels is deprecated and will be removed in a future version. (1 levels on the left, 2 on the right)\n",
      "  train_preprocessed = train_preprocessed.merge(\n"
     ]
    }
   ],
   "source": [
    "# groupby SK_ID_CURR and aggregate\n",
    "pos_cash_grouped = pos_cash.groupby('SK_ID_CURR').agg(\n",
    "    pos_cash_agg_dict\n",
    ")\n",
    "\n",
    "# join with train on SK_ID_CURR\n",
    "train_preprocessed = train_preprocessed.merge(\n",
    "    pos_cash_grouped, on='SK_ID_CURR', how='left', suffixes=('','_POS')\n",
    ")\n"
   ]
  },
  {
   "cell_type": "markdown",
   "id": "934b2c37-3dea-4fa9-be7f-539b2b372ce0",
   "metadata": {
    "tags": []
   },
   "source": [
    "## **FEATURE ENGINNERING**"
   ]
  },
  {
   "cell_type": "markdown",
   "id": "14a1b952-1e97-49e0-b5f5-982cb1f1b2de",
   "metadata": {
    "tags": []
   },
   "source": [
    "### **Further EDA**"
   ]
  },
  {
   "cell_type": "code",
   "execution_count": 130,
   "id": "d0feef0d-6716-496c-b3cc-d81f557756ae",
   "metadata": {},
   "outputs": [],
   "source": [
    "train = train_preprocessed"
   ]
  },
  {
   "cell_type": "code",
   "execution_count": 131,
   "id": "3423b13d-0007-4c4e-acb5-929d3d0718bd",
   "metadata": {},
   "outputs": [],
   "source": [
    "# encoded columns are currently titled in tuple form\n",
    "new_columns = []\n",
    "for col in train.columns:\n",
    "    if isinstance(col, tuple):\n",
    "        new_col = \"_\".join(str(c) for c in col)\n",
    "    else:\n",
    "        new_col = col\n",
    "    new_columns.append(new_col)\n",
    "\n",
    "train.columns = new_columns"
   ]
  },
  {
   "cell_type": "markdown",
   "id": "6c59a7d5-b0be-4cb6-b62b-7f59a3cb493a",
   "metadata": {
    "tags": []
   },
   "source": [
    "### **Interaction Features and Ratios**"
   ]
  },
  {
   "cell_type": "code",
   "execution_count": 132,
   "id": "fc8b55eb-29fe-46ca-a5b8-c0a2df4281e0",
   "metadata": {},
   "outputs": [],
   "source": [
    "# ratios\n",
    "\n",
    "train['CREDIT_TO_ANNUITY'] = train['AMT_CREDIT'] / train['AMT_ANNUITY']\n",
    "train['CREDIT_TO_GOODS'] = train['AMT_CREDIT'] / train['AMT_GOODS_PRICE']\n",
    "train['ANNUITY_INCOME'] = train['AMT_ANNUITY'] / train['AMT_INCOME_TOTAL']\n",
    "train['CREDIT_TO_INCOME'] = train['AMT_CREDIT'] / train['AMT_INCOME_TOTAL']\n",
    "train['GOODS_TO_INCOME'] = train['AMT_GOODS_PRICE'] / train['AMT_INCOME_TOTAL']\n",
    "train['DAYS_EMPLOYED_TO_BIRTH'] = train['DAYS_EMPLOYED'] / train['DAYS_BIRTH']\n",
    "train['INCOME_LENGTH'] = train['AMT_INCOME_TOTAL'] / train['DAYS_EMPLOYED']\n",
    "train['INCOME_PER_PERSON'] = train['AMT_INCOME_TOTAL'] / train['CNT_FAM_MEMBERS']\n",
    "train['INCOME_BY_AGE'] = train['AMT_INCOME_TOTAL'] / train['DAYS_BIRTH']\n",
    "train['EMPLOYMENT'] = train['DAYS_EMPLOYED'] / train['DAYS_BIRTH']\n",
    "train['CREDIT_INCOME'] = train['AMT_REQ_CREDIT_BUREAU_TOTAL'] / train['AMT_INCOME_TOTAL']\n",
    "\n"
   ]
  },
  {
   "cell_type": "markdown",
   "id": "17a05f0f-2ab1-4209-a813-a2081492b0d6",
   "metadata": {},
   "source": [
    "Creating interaction terms by column multiplicaiton/division, we can capture complex relationships between two inputs that the model wouldn't otherwise pick up on. For example, multiplying the amount of children by the amount of annuity payments may give the model insights into how amount of children can impact a borrowers' ability to make annuity payments on time. "
   ]
  },
  {
   "cell_type": "code",
   "execution_count": 133,
   "id": "0c001092-e28d-4986-a257-b19d094c458c",
   "metadata": {},
   "outputs": [],
   "source": [
    "# create interaction terms between pairs of features\n",
    "train['INCOME_CREDIT'] = train['AMT_INCOME_TOTAL'] * train['AMT_CREDIT']\n",
    "train['CREDIT_GOODS'] = train['AMT_CREDIT'] * train['AMT_GOODS_PRICE']\n",
    "train['EMPLOYED_BIRTH'] = train['DAYS_EMPLOYED'] * train['DAYS_BIRTH']\n",
    "train['CHILDREN_INCOME'] = train['CNT_CHILDREN'] * train['AMT_INCOME_TOTAL']\n",
    "train['CHILDREN_CREDIT'] = train['CNT_CHILDREN'] * train['AMT_CREDIT']\n",
    "train['CHILDREN_ANNUITY'] = train['CNT_CHILDREN'] * train['AMT_ANNUITY']\n",
    "train['CREDIT_ANNUITY'] = train['AMT_CREDIT'] * train['AMT_ANNUITY']"
   ]
  },
  {
   "cell_type": "markdown",
   "id": "a7ad86db-71bb-469e-b8d4-c69252bbeed4",
   "metadata": {
    "tags": []
   },
   "source": [
    "## **MODEL TRAINING/EVAL**"
   ]
  },
  {
   "cell_type": "markdown",
   "id": "55415c89-4171-4782-81cc-ec31e9384487",
   "metadata": {
    "tags": []
   },
   "source": [
    "### **SCALE FEATURES**"
   ]
  },
  {
   "cell_type": "code",
   "execution_count": 134,
   "id": "268d8690-8988-410f-9171-a6e83fe4b05a",
   "metadata": {},
   "outputs": [
    {
     "name": "stdout",
     "output_type": "stream",
     "text": [
      "Number of Rows: 193120\n",
      "Number of Columns: 98\n",
      "False\n",
      "False\n",
      "False\n",
      "False\n"
     ]
    }
   ],
   "source": [
    "# Replace infinite values with NaN\n",
    "train.replace([np.inf, -np.inf], np.nan, inplace=True)\n",
    "train.dropna(inplace=True)\n",
    "print(f'Number of Rows: {train.shape[0]}')\n",
    "print(f'Number of Columns: {train.shape[1]}')\n",
    "\n",
    "# Separate target and training data\n",
    "drops = ['TARGET', 'SK_ID_CURR']\n",
    "preprocessed_target = train['TARGET']\n",
    "y = preprocessed_target\n",
    "X = train.drop(drops, axis=1)\n",
    "Xtrain, Xtest, ytrain, ytest = train_test_split(X, y, train_size=0.75, random_state=81)\n",
    "print(np.any(np.isnan(Xtrain)))\n",
    "print(np.any(np.isnan(Xtest)))\n",
    "print(np.any(np.isinf(Xtrain)))\n",
    "print(np.any(np.isinf(Xtest)))\n",
    "\n",
    "# scale to mean 0 std dev 1\n",
    "scaler = StandardScaler()\n",
    "Xtrain = scaler.fit_transform(Xtrain)\n",
    "Xtest = scaler.fit_transform(Xtest)\n",
    "Xtrain = pd.DataFrame(Xtrain, columns=X.columns)\n",
    "Xtest = pd.DataFrame(Xtest, columns=X.columns)"
   ]
  },
  {
   "cell_type": "markdown",
   "id": "376579eb-b9da-45b6-a48f-574789f1f6db",
   "metadata": {
    "tags": []
   },
   "source": [
    "### **PCA**"
   ]
  },
  {
   "cell_type": "code",
   "execution_count": 135,
   "id": "dff2c0de-4c27-44be-af9e-1662cfc2a006",
   "metadata": {},
   "outputs": [],
   "source": [
    "# Reduce dimensionality with PCA\n",
    "pca = PCA(n_components=60)\n",
    "Xtrain_pca = pca.fit_transform(Xtrain)\n",
    "Xtest_pca = pca.transform(Xtest)\n"
   ]
  },
  {
   "cell_type": "markdown",
   "id": "e12b9e1b-285a-4fcb-ba2f-90c1be7bb88b",
   "metadata": {
    "tags": []
   },
   "source": [
    "### **TRAINING**"
   ]
  },
  {
   "cell_type": "markdown",
   "id": "2ae20d98-8aea-47cc-928b-11a3b3d8aba1",
   "metadata": {
    "tags": []
   },
   "source": [
    "#### **Random Forest**"
   ]
  },
  {
   "cell_type": "code",
   "execution_count": null,
   "id": "0839c85c-c2e6-49ea-9d92-5786a8c3ba6c",
   "metadata": {
    "tags": []
   },
   "outputs": [],
   "source": [
    "# function that performs randomsearchCV on the RandomForest Classifier\n",
    "# returns optimal hyperparameters and a list of sorted feature importances\n",
    "\n",
    "def parameters_and_importances(df, target_col):\n",
    "    \"\"\"\n",
    "    Pass preprocessed training data and target column separately!!!\n",
    "    \"\"\"\n",
    "    print('Beginning Randomized Search Algorithm...')\n",
    "          \n",
    "    X = df\n",
    "    y = target_col\n",
    "    \n",
    "    hyperparams = {\n",
    "        'n_estimators': [50, 100, 150, 200, 400],\n",
    "        'max_depth': [None, 10, 25, 50],\n",
    "        'min_samples_split': [2, 5, 10],\n",
    "        'min_samples_leaf': [1, 2, 4],\n",
    "        'max_features': ['auto', 'sqrt'],\n",
    "        'criterion': ['gini', 'entropy']\n",
    "    }\n",
    "    \n",
    "    rf = RandomForestClassifier(random_state=81)\n",
    "    \n",
    "    rf_params = RandomizedSearchCV(estimator=rf, param_distributions=hyperparams,\n",
    "                                  n_iter=50, cv=5, random_state=81, n_jobs=-1)\n",
    "    \n",
    "    rf_params.fit(X, y)\n",
    "    best = rf_params.best_estimator_\n",
    "    importances = dict(zip(X.columns, best.feature_importances_))\n",
    "    sorted_importances = sorted(importances.items(), key=lambda x: x[1], reverse=True)\n",
    "    \n",
    "    return sorted_importances, rf_params.best_params_\n"
   ]
  },
  {
   "cell_type": "code",
   "execution_count": null,
   "id": "2161ae47-5bad-432d-a17a-ccaa1080013e",
   "metadata": {},
   "outputs": [],
   "source": [
    "# this cell performs a gridsearch for 250 possible hyperparameter configurations\n",
    "# already ran, do not run again\n",
    "#importances, params = parameters_and_importances(Xtrain_pca, ytrain)\n",
    "#print(params)"
   ]
  },
  {
   "cell_type": "code",
   "execution_count": 136,
   "id": "b732aa6f-367d-43cb-b4c6-2523e6be3dc3",
   "metadata": {},
   "outputs": [
    {
     "name": "stdout",
     "output_type": "stream",
     "text": [
      "Accuracy: 0.6507042253521127\n",
      "Precision: 0.1365985048372911\n",
      "Recall: 0.6823174080175728\n",
      "F1 Score: 0.22762663735458458\n"
     ]
    }
   ],
   "source": [
    "\n",
    "rf = RandomForestClassifier(\n",
    "    n_estimators=200, max_depth=3, min_samples_split=2,\n",
    "    random_state=81, class_weight = {0: 1, 1: 12.5})\n",
    "rf.fit(Xtrain_pca, ytrain)\n",
    "\n"
   ]
  },
  {
   "cell_type": "markdown",
   "id": "caf98f3a-d3ac-49b4-b12f-06cad36ca9bb",
   "metadata": {
    "tags": []
   },
   "source": [
    "#### **XGBoost**"
   ]
  },
  {
   "cell_type": "markdown",
   "id": "7e19aa4d-22fc-4302-8386-3ce66521da28",
   "metadata": {
    "tags": []
   },
   "source": [
    "##### Use cross-validation grid search to find optimal hyperparameters\n",
    "\n",
    "DO NOT RUN !!!!"
   ]
  },
  {
   "cell_type": "code",
   "execution_count": null,
   "id": "6c64e2c2-9bd4-44b3-b3b2-53c7c153ff24",
   "metadata": {
    "tags": []
   },
   "outputs": [],
   "source": [
    "\n",
    "xgb_model = XGBClassifier()\n",
    "\n",
    "# Define the hyperparameter grid\n",
    "params = {\n",
    "    'n_estimators': [50, 100, 200, 400],\n",
    "    'max_depth': [3, 5, 10, 15],\n",
    "    'learning_rate': [0.1, 0.15, 0.2, 0.3, 0.5],\n",
    "    'scale_pos_weight': [10, 12.5, 15],\n",
    "    'subsample': [0.75, 1],\n",
    "    'min_child_weight': [0, 3, 5],\n",
    "    'gamma': [0, 0.1, 0.25, 0.5]\n",
    "}\n",
    "\n",
    "random_search = RandomizedSearchCV(\n",
    "    xgb_model,\n",
    "    param_distributions=params,\n",
    "    n_iter=100,\n",
    "    scoring='roc_auc',\n",
    "    n_jobs=-1,\n",
    "    cv=3,\n",
    "    verbose=3\n",
    ")\n",
    "\n",
    "#random_search.fit(Xtrain_pca, ytrain)\n",
    "#best_params = random_search.best_params_\n",
    "#print(best_params)\n"
   ]
  },
  {
   "cell_type": "markdown",
   "id": "23ac0a97-c57f-4fcd-8aac-4a3119b3b416",
   "metadata": {
    "tags": []
   },
   "source": [
    "##### Train"
   ]
  },
  {
   "cell_type": "code",
   "execution_count": 137,
   "id": "af69790c-6c7f-4d9d-b4d3-2bf1568670e7",
   "metadata": {
    "tags": []
   },
   "outputs": [
    {
     "data": {
      "text/plain": [
       "XGBClassifier(base_score=None, booster=None, callbacks=None,\n",
       "              colsample_bylevel=None, colsample_bynode=None,\n",
       "              colsample_bytree=None, early_stopping_rounds=None,\n",
       "              enable_categorical=False, eval_metric=None, feature_types=None,\n",
       "              gamma=0.1, gpu_id=None, grow_policy=None, importance_type=None,\n",
       "              interaction_constraints=None, learning_rate=0.1, max_bin=None,\n",
       "              max_cat_threshold=None, max_cat_to_onehot=None,\n",
       "              max_delta_step=None, max_depth=3, max_leaves=None,\n",
       "              min_child_weight=3, missing=nan, monotone_constraints=None,\n",
       "              n_estimators=200, n_jobs=None, num_parallel_tree=None,\n",
       "              predictor=None, random_state=None, ...)"
      ]
     },
     "execution_count": 137,
     "metadata": {},
     "output_type": "execute_result"
    }
   ],
   "source": [
    "# Fit an XGBoost model to the resampled training data\n",
    "# scale_pos_weight set to 12.5, positive class represents ~ 8% of data.\n",
    "\n",
    "xgb = XGBClassifier(\n",
    "    n_estimators=200, max_depth=3, learning_rate=0.1, scale_pos_weight=12.5, gamma = 0.1,\n",
    "    min_child_weight=3, subsample=0.75\n",
    ")\n",
    "xgb.fit(Xtrain_pca, ytrain)\n"
   ]
  },
  {
   "cell_type": "markdown",
   "id": "39a267b1-1053-4ab3-917d-3d6a43cf2ef9",
   "metadata": {
    "tags": []
   },
   "source": [
    "### Evaluation Metrics"
   ]
  },
  {
   "cell_type": "code",
   "execution_count": 151,
   "id": "1248e7a2-b9cc-4d7f-a4e0-f3b16ecebc31",
   "metadata": {},
   "outputs": [
    {
     "name": "stdout",
     "output_type": "stream",
     "text": [
      "Random Forest Results:\n",
      "--------------------------------------------------\n",
      "Accuracy: 0.6507042253521127\n",
      "Precision: 0.1365985048372911\n",
      "Recall: 0.6823174080175728\n"
     ]
    }
   ],
   "source": [
    "y_pred_rf = rf.predict(Xtest_pca)\n",
    "y_prob_rf = rf.predict_proba(Xtest_pca)[:, 1]\n",
    "rf_accuracy = accuracy_score(ytest, y_pred_rf)\n",
    "rf_precision = precision_score(ytest, y_pred_rf)\n",
    "rf_recall = recall_score(ytest, y_pred_rf)\n",
    "rf_f1 = f1_score(ytest, y_pred_rf)\n",
    "print(\"Random Forest Results:\")\n",
    "print('-'*50)\n",
    "print(\"Accuracy:\", rf_accuracy)\n",
    "print(\"Precision:\", rf_precision)\n",
    "print(\"Recall:\", rf_recall)\n"
   ]
  },
  {
   "cell_type": "code",
   "execution_count": 152,
   "id": "f69c3e1e-4e39-472e-84cb-75ba2717a476",
   "metadata": {},
   "outputs": [
    {
     "name": "stdout",
     "output_type": "stream",
     "text": [
      "XGBoost Results:\n",
      "--------------------------------------------------\n",
      "Accuracy: 0.7052195526097763\n",
      "Precision: 0.15754753589445092\n",
      "Recall: 0.6688632619439868\n"
     ]
    }
   ],
   "source": [
    "y_pred = xgb.predict(Xtest_pca)\n",
    "y_prob = xgb.predict_proba(Xtest_pca)[:, 1]\n",
    "xgb_accuracy = accuracy_score(ytest, y_pred)\n",
    "xgb_precision = precision_score(ytest, y_pred)\n",
    "xgb_recall = recall_score(ytest, y_pred)\n",
    "print('XGBoost Results:')\n",
    "print('-'*50)\n",
    "print(\"Accuracy:\", xgb_accuracy)\n",
    "print(\"Precision:\", xgb_precision)\n",
    "print(\"Recall:\", xgb_recall)\n"
   ]
  },
  {
   "cell_type": "code",
   "execution_count": 140,
   "id": "49e929fe-a7a8-406e-beb7-53d0bf8b6278",
   "metadata": {},
   "outputs": [],
   "source": [
    "def plot_classification_results(ytest, y_pred, y_prob):\n",
    "    fig, (ax1, ax2) = plt.subplots(1, 2, figsize=(15, 6))\n",
    "\n",
    "    # Confusion matrix heatmap\n",
    "    cm = confusion_matrix(ytest, y_pred)\n",
    "    sns.heatmap(cm, annot=True, fmt='.0f', cmap='Greens', ax=ax1)\n",
    "    ax1.set_title('Confusion Matrix')\n",
    "    ax1.set_xlabel('Predicted')\n",
    "    ax1.set_ylabel('Actual')\n",
    "\n",
    "    # ROC curve\n",
    "    fpr, tpr, thresholds = roc_curve(ytest, y_prob)\n",
    "    roc_auc = auc(fpr, tpr)\n",
    "    ax2.plot(fpr, tpr, color=\"Green\", lw=2, label=\"ROC curve (area = %0.4f)\" % roc_auc)\n",
    "    ax2.plot([0, 1], [0, 1], color=\"black\", lw=2, linestyle=\"--\")\n",
    "    ax2.fill_between(fpr, tpr, color=\"Lightgreen\", alpha=0.5)\n",
    "    ax2.set_xlim([0.0, 1.0])\n",
    "    ax2.set_ylim([0.0, 1.0])\n",
    "    ax2.set_xlabel(\"FPR\")\n",
    "    ax2.set_ylabel(\"TPR\")\n",
    "    ax2.set_title(\"Receiver Operating Characteristic\")\n",
    "    ax2.legend(loc=\"lower right\")\n",
    "\n",
    "    plt.show()\n"
   ]
  },
  {
   "cell_type": "code",
   "execution_count": 150,
   "id": "272c68e2-ee49-4403-8241-d4c12be87dd5",
   "metadata": {},
   "outputs": [
    {
     "name": "stdout",
     "output_type": "stream",
     "text": [
      "RESULTS FOR RANDOM FOREST CLASSIFIER\n"
     ]
    },
    {
     "data": {
      "image/png": "[encoded data removed]",
      "text/plain": [
       "<Figure size 1500x600 with 3 Axes>"
      ]
     },
     "metadata": {},
     "output_type": "display_data"
    }
   ],
   "source": [
    "\n",
    "# plots of results for the Random Forest Classifier\n",
    "print(\"RESULTS FOR RANDOM FOREST CLASSIFIER\")\n",
    "plot_classification_results(ytest, y_pred_rf, y_prob_rf)"
   ]
  },
  {
   "cell_type": "code",
   "execution_count": 144,
   "id": "a8d1bf3b-2c7d-4ffa-a936-728ac743062c",
   "metadata": {},
   "outputs": [
    {
     "data": {
      "image/png": "[encoded data removed]",
      "text/plain": [
       "<Figure size 1500x600 with 3 Axes>"
      ]
     },
     "metadata": {},
     "output_type": "display_data"
    }
   ],
   "source": [
    "\n",
    "# plots of results for XGBoost model\n",
    "\n",
    "plot_classification_results(ytest, y_pred, y_prob)"
   ]
  }
 ],
 "metadata": {
  "kernelspec": {
   "display_name": "Python 3 (ipykernel)",
   "language": "python",
   "name": "python3"
  },
  "language_info": {
   "codemirror_mode": {
    "name": "ipython",
    "version": 3
   },
   "file_extension": ".py",
   "mimetype": "text/x-python",
   "name": "python",
   "nbconvert_exporter": "python",
   "pygments_lexer": "ipython3",
   "version": "3.9.7"
  }
 },
 "nbformat": 4,
 "nbformat_minor": 5
}
